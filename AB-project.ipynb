{
 "cells": [
  {
   "cell_type": "markdown",
   "id": "e3093fb7",
   "metadata": {
    "toc": true
   },
   "source": [
    "<h1>Table of Contents<span class=\"tocSkip\"></span></h1>\n",
    "<div class=\"toc\"><ul class=\"toc-item\"><li><span><a href=\"#Исследование-и-предобработка-данных\" data-toc-modified-id=\"Исследование-и-предобработка-данных-1\"><span class=\"toc-item-num\">1&nbsp;&nbsp;</span>Исследование и предобработка данных</a></span><ul class=\"toc-item\"><li><span><a href=\"#Загрузка-данных-и-библиотек\" data-toc-modified-id=\"Загрузка-данных-и-библиотек-1.1\"><span class=\"toc-item-num\">1.1&nbsp;&nbsp;</span>Загрузка данных и библиотек</a></span></li><li><span><a href=\"#Предобработка-данных\" data-toc-modified-id=\"Предобработка-данных-1.2\"><span class=\"toc-item-num\">1.2&nbsp;&nbsp;</span>Предобработка данных</a></span></li><li><span><a href=\"#Проверка-выборки\" data-toc-modified-id=\"Проверка-выборки-1.3\"><span class=\"toc-item-num\">1.3&nbsp;&nbsp;</span>Проверка выборки</a></span></li></ul></li><li><span><a href=\"#Приоритизация-гипотез.\" data-toc-modified-id=\"Приоритизация-гипотез.-2\"><span class=\"toc-item-num\">2&nbsp;&nbsp;</span>Приоритизация гипотез.</a></span><ul class=\"toc-item\"><li><span><a href=\"#ICE\" data-toc-modified-id=\"ICE-2.1\"><span class=\"toc-item-num\">2.1&nbsp;&nbsp;</span>ICE</a></span></li><li><span><a href=\"#RICE\" data-toc-modified-id=\"RICE-2.2\"><span class=\"toc-item-num\">2.2&nbsp;&nbsp;</span>RICE</a></span></li><li><span><a href=\"#Сравнение-результатов\" data-toc-modified-id=\"Сравнение-результатов-2.3\"><span class=\"toc-item-num\">2.3&nbsp;&nbsp;</span>Сравнение результатов</a></span></li></ul></li><li><span><a href=\"#Анализ-A/B-теста\" data-toc-modified-id=\"Анализ-A/B-теста-3\"><span class=\"toc-item-num\">3&nbsp;&nbsp;</span>Анализ A/B-теста</a></span><ul class=\"toc-item\"><li><span><a href=\"#График-кумулятивной-выручки-по-группам\" data-toc-modified-id=\"График-кумулятивной-выручки-по-группам-3.1\"><span class=\"toc-item-num\">3.1&nbsp;&nbsp;</span>График кумулятивной выручки по группам</a></span></li><li><span><a href=\"#График-кумулятивного-среднего-чека-по-группам\" data-toc-modified-id=\"График-кумулятивного-среднего-чека-по-группам-3.2\"><span class=\"toc-item-num\">3.2&nbsp;&nbsp;</span>График кумулятивного среднего чека по группам</a></span></li><li><span><a href=\"#График-относительного-изменения-кумулятивного-среднего-чека-группы-B-к-группе-A\" data-toc-modified-id=\"График-относительного-изменения-кумулятивного-среднего-чека-группы-B-к-группе-A-3.3\"><span class=\"toc-item-num\">3.3&nbsp;&nbsp;</span>График относительного изменения кумулятивного среднего чека группы B к группе A</a></span></li><li><span><a href=\"#График-кумулятивного-среднего-количества-заказов-на-посетителя-по-группам\" data-toc-modified-id=\"График-кумулятивного-среднего-количества-заказов-на-посетителя-по-группам-3.4\"><span class=\"toc-item-num\">3.4&nbsp;&nbsp;</span>График кумулятивного среднего количества заказов на посетителя по группам</a></span></li><li><span><a href=\"#График-относительного-изменения-кумулятивного-среднего-количества-заказов-на-посетителя-группы-B-к-группе-A\" data-toc-modified-id=\"График-относительного-изменения-кумулятивного-среднего-количества-заказов-на-посетителя-группы-B-к-группе-A-3.5\"><span class=\"toc-item-num\">3.5&nbsp;&nbsp;</span>График относительного изменения кумулятивного среднего количества заказов на посетителя группы B к группе A</a></span></li><li><span><a href=\"#Точечный-график-количества-заказов-по-пользователям\" data-toc-modified-id=\"Точечный-график-количества-заказов-по-пользователям-3.6\"><span class=\"toc-item-num\">3.6&nbsp;&nbsp;</span>Точечный график количества заказов по пользователям</a></span></li><li><span><a href=\"#95-й-и-99-й-перцентили-количества-заказов-на-пользователя\" data-toc-modified-id=\"95-й-и-99-й-перцентили-количества-заказов-на-пользователя-3.7\"><span class=\"toc-item-num\">3.7&nbsp;&nbsp;</span>95-й и 99-й перцентили количества заказов на пользователя</a></span></li><li><span><a href=\"#Точечный-график-стоимостей-заказов\" data-toc-modified-id=\"Точечный-график-стоимостей-заказов-3.8\"><span class=\"toc-item-num\">3.8&nbsp;&nbsp;</span>Точечный график стоимостей заказов</a></span></li><li><span><a href=\"#95-й-и-99-й-перцентили-стоимости-заказов\" data-toc-modified-id=\"95-й-и-99-й-перцентили-стоимости-заказов-3.9\"><span class=\"toc-item-num\">3.9&nbsp;&nbsp;</span>95-й и 99-й перцентили стоимости заказов</a></span></li><li><span><a href=\"#Статистическая-значимость-различий-в-среднем-количестве-заказов-на-посетителя-между-группами-по-«сырым»-данным\" data-toc-modified-id=\"Статистическая-значимость-различий-в-среднем-количестве-заказов-на-посетителя-между-группами-по-«сырым»-данным-3.10\"><span class=\"toc-item-num\">3.10&nbsp;&nbsp;</span>Статистическая значимость различий в среднем количестве заказов на посетителя между группами по «сырым» данным</a></span></li><li><span><a href=\"#Статистическая-значимость-различий-в-среднем-чеке-заказа-между-группами-по-«сырым»-данным\" data-toc-modified-id=\"Статистическая-значимость-различий-в-среднем-чеке-заказа-между-группами-по-«сырым»-данным-3.11\"><span class=\"toc-item-num\">3.11&nbsp;&nbsp;</span>Статистическая значимость различий в среднем чеке заказа между группами по «сырым» данным</a></span></li><li><span><a href=\"#Статистическая-значимость-различий-в-среднем-количестве-заказов-на-посетителя-между-группами-по-«очищенным»-данным\" data-toc-modified-id=\"Статистическая-значимость-различий-в-среднем-количестве-заказов-на-посетителя-между-группами-по-«очищенным»-данным-3.12\"><span class=\"toc-item-num\">3.12&nbsp;&nbsp;</span>Статистическая значимость различий в среднем количестве заказов на посетителя между группами по «очищенным» данным</a></span></li><li><span><a href=\"#Статистическая-значимость-различий-в-среднем-чеке-заказа-между-группами-по-«очищенным»-данным\" data-toc-modified-id=\"Статистическая-значимость-различий-в-среднем-чеке-заказа-между-группами-по-«очищенным»-данным-3.13\"><span class=\"toc-item-num\">3.13&nbsp;&nbsp;</span>Статистическая значимость различий в среднем чеке заказа между группами по «очищенным» данным</a></span></li><li><span><a href=\"#Выводы\" data-toc-modified-id=\"Выводы-3.14\"><span class=\"toc-item-num\">3.14&nbsp;&nbsp;</span>Выводы</a></span></li></ul></li></ul></div>"
   ]
  },
  {
   "cell_type": "markdown",
   "id": "8310d079",
   "metadata": {},
   "source": [
    "## Исследование и предобработка данных"
   ]
  },
  {
   "cell_type": "markdown",
   "id": "b45e514a",
   "metadata": {},
   "source": [
    "Данный анализ подготовлен совместно с отделом маркетинга обучающей платформы. \n",
    "Работа состоит из двух частей:\n",
    "1. Приоритизация девяти гипотез по методу ICE и RICE\n",
    "2. Анализ проведенного в августе 2019 года А/В-теста. Нужно определить влияние теста на средний чек и среднее количество заказов на пользователя. "
   ]
  },
  {
   "cell_type": "markdown",
   "id": "852a7910",
   "metadata": {},
   "source": [
    "### Загрузка данных и библиотек"
   ]
  },
  {
   "cell_type": "markdown",
   "id": "66a11af8",
   "metadata": {},
   "source": [
    "Загрузим библиотеки для работы с данными."
   ]
  },
  {
   "cell_type": "code",
   "execution_count": 1,
   "id": "3e859337",
   "metadata": {},
   "outputs": [],
   "source": [
    "import pandas as pd\n",
    "import numpy as np\n",
    "import math as mth\n",
    "from scipy import stats as st\n",
    "from pandas.plotting import register_matplotlib_converters\n",
    "import warnings\n",
    "import matplotlib.pyplot as plt\n",
    "import datetime as dt\n",
    "# конвертеры, которые позволяют использовать типы pandas в matplotlib  \n",
    "register_matplotlib_converters()"
   ]
  },
  {
   "cell_type": "markdown",
   "id": "e6cac191",
   "metadata": {},
   "source": [
    "Загрузим данные."
   ]
  },
  {
   "cell_type": "code",
   "execution_count": 2,
   "id": "7e5668c8",
   "metadata": {},
   "outputs": [],
   "source": [
    "try:\n",
    "    data = pd.read_csv('hypothesis.csv', sep=',')\n",
    "    orders = pd.read_csv('orders.csv', sep=',')\n",
    "    visitors = pd.read_csv('visitors.csv', sep=',')\n",
    "except:\n",
    "    data = pd.read_csv('/datasets/hypothesis.csv', sep=',')\n",
    "    orders = pd.read_csv('/datasets/orders.csv', sep=',')\n",
    "    visitors = pd.read_csv('/datasets/visitors.csv', sep=',')"
   ]
  },
  {
   "cell_type": "markdown",
   "id": "8c77e4ea",
   "metadata": {},
   "source": [
    "### Предобработка данных"
   ]
  },
  {
   "cell_type": "markdown",
   "id": "27cb5171",
   "metadata": {},
   "source": [
    "Посмотрим на данные."
   ]
  },
  {
   "cell_type": "code",
   "execution_count": 3,
   "id": "d5913b8b",
   "metadata": {
    "scrolled": true
   },
   "outputs": [
    {
     "data": {
      "text/html": [
       "<div>\n",
       "<style scoped>\n",
       "    .dataframe tbody tr th:only-of-type {\n",
       "        vertical-align: middle;\n",
       "    }\n",
       "\n",
       "    .dataframe tbody tr th {\n",
       "        vertical-align: top;\n",
       "    }\n",
       "\n",
       "    .dataframe thead th {\n",
       "        text-align: right;\n",
       "    }\n",
       "</style>\n",
       "<table border=\"1\" class=\"dataframe\">\n",
       "  <thead>\n",
       "    <tr style=\"text-align: right;\">\n",
       "      <th></th>\n",
       "      <th>Hypothesis</th>\n",
       "      <th>Reach</th>\n",
       "      <th>Impact</th>\n",
       "      <th>Confidence</th>\n",
       "      <th>Efforts</th>\n",
       "    </tr>\n",
       "  </thead>\n",
       "  <tbody>\n",
       "    <tr>\n",
       "      <th>0</th>\n",
       "      <td>Добавить два новых канала привлечения трафика, что позволит привлекать на 30% больше пользователей</td>\n",
       "      <td>3</td>\n",
       "      <td>10</td>\n",
       "      <td>8</td>\n",
       "      <td>6</td>\n",
       "    </tr>\n",
       "    <tr>\n",
       "      <th>1</th>\n",
       "      <td>Запустить собственную службу сопровождения,что увеличит вовлеченность</td>\n",
       "      <td>2</td>\n",
       "      <td>5</td>\n",
       "      <td>4</td>\n",
       "      <td>10</td>\n",
       "    </tr>\n",
       "    <tr>\n",
       "      <th>2</th>\n",
       "      <td>Добавить блоки рекомендаций на сайт, чтобы повысить конверсию и средний чек заказа</td>\n",
       "      <td>8</td>\n",
       "      <td>3</td>\n",
       "      <td>7</td>\n",
       "      <td>3</td>\n",
       "    </tr>\n",
       "    <tr>\n",
       "      <th>3</th>\n",
       "      <td>Изменить структура категорий, что увеличит конверсию, т.к. пользователи быстрее найдут нужный товар</td>\n",
       "      <td>8</td>\n",
       "      <td>3</td>\n",
       "      <td>3</td>\n",
       "      <td>8</td>\n",
       "    </tr>\n",
       "    <tr>\n",
       "      <th>4</th>\n",
       "      <td>Изменить цвет фона главной страницы, чтобы увеличить вовлеченность пользователей</td>\n",
       "      <td>3</td>\n",
       "      <td>1</td>\n",
       "      <td>1</td>\n",
       "      <td>1</td>\n",
       "    </tr>\n",
       "    <tr>\n",
       "      <th>5</th>\n",
       "      <td>Добавить страницу отзывов, что позволит увеличить количество заказов</td>\n",
       "      <td>3</td>\n",
       "      <td>2</td>\n",
       "      <td>2</td>\n",
       "      <td>3</td>\n",
       "    </tr>\n",
       "    <tr>\n",
       "      <th>6</th>\n",
       "      <td>Показать на главной странице баннеры с актуальными акциями и распродажами, чтобы увеличить конверсию</td>\n",
       "      <td>5</td>\n",
       "      <td>3</td>\n",
       "      <td>8</td>\n",
       "      <td>3</td>\n",
       "    </tr>\n",
       "    <tr>\n",
       "      <th>7</th>\n",
       "      <td>Добавить форму подписки на все основные страницы, чтобы собрать базу клиентов для email-рассылок</td>\n",
       "      <td>10</td>\n",
       "      <td>7</td>\n",
       "      <td>8</td>\n",
       "      <td>5</td>\n",
       "    </tr>\n",
       "    <tr>\n",
       "      <th>8</th>\n",
       "      <td>Запустить акцию, дающую скидку на товар в день рождения</td>\n",
       "      <td>1</td>\n",
       "      <td>9</td>\n",
       "      <td>9</td>\n",
       "      <td>5</td>\n",
       "    </tr>\n",
       "  </tbody>\n",
       "</table>\n",
       "</div>"
      ],
      "text/plain": [
       "                                                                                             Hypothesis  \\\n",
       "0    Добавить два новых канала привлечения трафика, что позволит привлекать на 30% больше пользователей   \n",
       "1                                 Запустить собственную службу сопровождения,что увеличит вовлеченность   \n",
       "2                    Добавить блоки рекомендаций на сайт, чтобы повысить конверсию и средний чек заказа   \n",
       "3   Изменить структура категорий, что увеличит конверсию, т.к. пользователи быстрее найдут нужный товар   \n",
       "4                      Изменить цвет фона главной страницы, чтобы увеличить вовлеченность пользователей   \n",
       "5                                  Добавить страницу отзывов, что позволит увеличить количество заказов   \n",
       "6  Показать на главной странице баннеры с актуальными акциями и распродажами, чтобы увеличить конверсию   \n",
       "7      Добавить форму подписки на все основные страницы, чтобы собрать базу клиентов для email-рассылок   \n",
       "8                                               Запустить акцию, дающую скидку на товар в день рождения   \n",
       "\n",
       "   Reach  Impact  Confidence  Efforts  \n",
       "0      3      10           8        6  \n",
       "1      2       5           4       10  \n",
       "2      8       3           7        3  \n",
       "3      8       3           3        8  \n",
       "4      3       1           1        1  \n",
       "5      3       2           2        3  \n",
       "6      5       3           8        3  \n",
       "7     10       7           8        5  \n",
       "8      1       9           9        5  "
      ]
     },
     "metadata": {},
     "output_type": "display_data"
    }
   ],
   "source": [
    "pd.options.display.max_colwidth = 150\n",
    "display(data.head(10))"
   ]
  },
  {
   "cell_type": "markdown",
   "id": "4c30c8b6",
   "metadata": {},
   "source": [
    "Данные для приоритизации задач полностью заполнены. Шкалы параметров ICE и RICE десятибальные.   \n",
    "Не совсем понятно, какой результат ожидается от девятой гипотезы. \n",
    "Все остальные гипотезы составлены верно, состоят из понятной правки и ожидаемого влияния на бизнес-показатели. \n",
    "\n",
    "Приведем только заголовки к нижнему регистру."
   ]
  },
  {
   "cell_type": "code",
   "execution_count": 4,
   "id": "72d0368a",
   "metadata": {},
   "outputs": [],
   "source": [
    "data.columns = data.columns.str.lower()"
   ]
  },
  {
   "cell_type": "markdown",
   "id": "d8e35b46",
   "metadata": {},
   "source": [
    "Рассмотрим данные для анализа A/B-теста."
   ]
  },
  {
   "cell_type": "code",
   "execution_count": 5,
   "id": "fc5618a7",
   "metadata": {},
   "outputs": [
    {
     "data": {
      "text/html": [
       "<div>\n",
       "<style scoped>\n",
       "    .dataframe tbody tr th:only-of-type {\n",
       "        vertical-align: middle;\n",
       "    }\n",
       "\n",
       "    .dataframe tbody tr th {\n",
       "        vertical-align: top;\n",
       "    }\n",
       "\n",
       "    .dataframe thead th {\n",
       "        text-align: right;\n",
       "    }\n",
       "</style>\n",
       "<table border=\"1\" class=\"dataframe\">\n",
       "  <thead>\n",
       "    <tr style=\"text-align: right;\">\n",
       "      <th></th>\n",
       "      <th>transactionId</th>\n",
       "      <th>visitorId</th>\n",
       "      <th>date</th>\n",
       "      <th>revenue</th>\n",
       "      <th>group</th>\n",
       "    </tr>\n",
       "  </thead>\n",
       "  <tbody>\n",
       "    <tr>\n",
       "      <th>0</th>\n",
       "      <td>3667963787</td>\n",
       "      <td>3312258926</td>\n",
       "      <td>2019-08-15</td>\n",
       "      <td>1650</td>\n",
       "      <td>B</td>\n",
       "    </tr>\n",
       "    <tr>\n",
       "      <th>1</th>\n",
       "      <td>2804400009</td>\n",
       "      <td>3642806036</td>\n",
       "      <td>2019-08-15</td>\n",
       "      <td>730</td>\n",
       "      <td>B</td>\n",
       "    </tr>\n",
       "    <tr>\n",
       "      <th>2</th>\n",
       "      <td>2961555356</td>\n",
       "      <td>4069496402</td>\n",
       "      <td>2019-08-15</td>\n",
       "      <td>400</td>\n",
       "      <td>A</td>\n",
       "    </tr>\n",
       "    <tr>\n",
       "      <th>3</th>\n",
       "      <td>3797467345</td>\n",
       "      <td>1196621759</td>\n",
       "      <td>2019-08-15</td>\n",
       "      <td>9759</td>\n",
       "      <td>B</td>\n",
       "    </tr>\n",
       "    <tr>\n",
       "      <th>4</th>\n",
       "      <td>2282983706</td>\n",
       "      <td>2322279887</td>\n",
       "      <td>2019-08-15</td>\n",
       "      <td>2308</td>\n",
       "      <td>B</td>\n",
       "    </tr>\n",
       "  </tbody>\n",
       "</table>\n",
       "</div>"
      ],
      "text/plain": [
       "   transactionId   visitorId        date  revenue group\n",
       "0     3667963787  3312258926  2019-08-15     1650     B\n",
       "1     2804400009  3642806036  2019-08-15      730     B\n",
       "2     2961555356  4069496402  2019-08-15      400     A\n",
       "3     3797467345  1196621759  2019-08-15     9759     B\n",
       "4     2282983706  2322279887  2019-08-15     2308     B"
      ]
     },
     "metadata": {},
     "output_type": "display_data"
    },
    {
     "data": {
      "text/html": [
       "<div>\n",
       "<style scoped>\n",
       "    .dataframe tbody tr th:only-of-type {\n",
       "        vertical-align: middle;\n",
       "    }\n",
       "\n",
       "    .dataframe tbody tr th {\n",
       "        vertical-align: top;\n",
       "    }\n",
       "\n",
       "    .dataframe thead th {\n",
       "        text-align: right;\n",
       "    }\n",
       "</style>\n",
       "<table border=\"1\" class=\"dataframe\">\n",
       "  <thead>\n",
       "    <tr style=\"text-align: right;\">\n",
       "      <th></th>\n",
       "      <th>date</th>\n",
       "      <th>group</th>\n",
       "      <th>visitors</th>\n",
       "    </tr>\n",
       "  </thead>\n",
       "  <tbody>\n",
       "    <tr>\n",
       "      <th>0</th>\n",
       "      <td>2019-08-01</td>\n",
       "      <td>A</td>\n",
       "      <td>719</td>\n",
       "    </tr>\n",
       "    <tr>\n",
       "      <th>1</th>\n",
       "      <td>2019-08-02</td>\n",
       "      <td>A</td>\n",
       "      <td>619</td>\n",
       "    </tr>\n",
       "    <tr>\n",
       "      <th>2</th>\n",
       "      <td>2019-08-03</td>\n",
       "      <td>A</td>\n",
       "      <td>507</td>\n",
       "    </tr>\n",
       "    <tr>\n",
       "      <th>3</th>\n",
       "      <td>2019-08-04</td>\n",
       "      <td>A</td>\n",
       "      <td>717</td>\n",
       "    </tr>\n",
       "    <tr>\n",
       "      <th>4</th>\n",
       "      <td>2019-08-05</td>\n",
       "      <td>A</td>\n",
       "      <td>756</td>\n",
       "    </tr>\n",
       "  </tbody>\n",
       "</table>\n",
       "</div>"
      ],
      "text/plain": [
       "         date group  visitors\n",
       "0  2019-08-01     A       719\n",
       "1  2019-08-02     A       619\n",
       "2  2019-08-03     A       507\n",
       "3  2019-08-04     A       717\n",
       "4  2019-08-05     A       756"
      ]
     },
     "metadata": {},
     "output_type": "display_data"
    }
   ],
   "source": [
    "display(orders.head(5))\n",
    "display(visitors.head(5))"
   ]
  },
  {
   "cell_type": "code",
   "execution_count": 6,
   "id": "f17cdbb5",
   "metadata": {},
   "outputs": [
    {
     "name": "stdout",
     "output_type": "stream",
     "text": [
      "<class 'pandas.core.frame.DataFrame'>\n",
      "RangeIndex: 1197 entries, 0 to 1196\n",
      "Data columns (total 5 columns):\n",
      " #   Column         Non-Null Count  Dtype \n",
      "---  ------         --------------  ----- \n",
      " 0   transactionId  1197 non-null   int64 \n",
      " 1   visitorId      1197 non-null   int64 \n",
      " 2   date           1197 non-null   object\n",
      " 3   revenue        1197 non-null   int64 \n",
      " 4   group          1197 non-null   object\n",
      "dtypes: int64(3), object(2)\n",
      "memory usage: 46.9+ KB\n",
      "<class 'pandas.core.frame.DataFrame'>\n",
      "RangeIndex: 62 entries, 0 to 61\n",
      "Data columns (total 3 columns):\n",
      " #   Column    Non-Null Count  Dtype \n",
      "---  ------    --------------  ----- \n",
      " 0   date      62 non-null     object\n",
      " 1   group     62 non-null     object\n",
      " 2   visitors  62 non-null     int64 \n",
      "dtypes: int64(1), object(2)\n",
      "memory usage: 1.6+ KB\n"
     ]
    }
   ],
   "source": [
    "orders.info()\n",
    "visitors.info()"
   ]
  },
  {
   "cell_type": "markdown",
   "id": "2e1174f8",
   "metadata": {},
   "source": [
    "Проверим дубликаты."
   ]
  },
  {
   "cell_type": "code",
   "execution_count": 7,
   "id": "3cf66828",
   "metadata": {},
   "outputs": [
    {
     "data": {
      "text/html": [
       "<div>\n",
       "<style scoped>\n",
       "    .dataframe tbody tr th:only-of-type {\n",
       "        vertical-align: middle;\n",
       "    }\n",
       "\n",
       "    .dataframe tbody tr th {\n",
       "        vertical-align: top;\n",
       "    }\n",
       "\n",
       "    .dataframe thead th {\n",
       "        text-align: right;\n",
       "    }\n",
       "</style>\n",
       "<table border=\"1\" class=\"dataframe\">\n",
       "  <thead>\n",
       "    <tr style=\"text-align: right;\">\n",
       "      <th></th>\n",
       "      <th>transactionId</th>\n",
       "      <th>visitorId</th>\n",
       "      <th>date</th>\n",
       "      <th>revenue</th>\n",
       "      <th>group</th>\n",
       "    </tr>\n",
       "  </thead>\n",
       "  <tbody>\n",
       "  </tbody>\n",
       "</table>\n",
       "</div>"
      ],
      "text/plain": [
       "Empty DataFrame\n",
       "Columns: [transactionId, visitorId, date, revenue, group]\n",
       "Index: []"
      ]
     },
     "metadata": {},
     "output_type": "display_data"
    },
    {
     "data": {
      "text/html": [
       "<div>\n",
       "<style scoped>\n",
       "    .dataframe tbody tr th:only-of-type {\n",
       "        vertical-align: middle;\n",
       "    }\n",
       "\n",
       "    .dataframe tbody tr th {\n",
       "        vertical-align: top;\n",
       "    }\n",
       "\n",
       "    .dataframe thead th {\n",
       "        text-align: right;\n",
       "    }\n",
       "</style>\n",
       "<table border=\"1\" class=\"dataframe\">\n",
       "  <thead>\n",
       "    <tr style=\"text-align: right;\">\n",
       "      <th></th>\n",
       "      <th>date</th>\n",
       "      <th>group</th>\n",
       "      <th>visitors</th>\n",
       "    </tr>\n",
       "  </thead>\n",
       "  <tbody>\n",
       "  </tbody>\n",
       "</table>\n",
       "</div>"
      ],
      "text/plain": [
       "Empty DataFrame\n",
       "Columns: [date, group, visitors]\n",
       "Index: []"
      ]
     },
     "metadata": {},
     "output_type": "display_data"
    }
   ],
   "source": [
    "display(orders[orders.duplicated(['transactionId', 'visitorId'])])\n",
    "display(visitors[visitors.duplicated()])"
   ]
  },
  {
   "cell_type": "code",
   "execution_count": 8,
   "id": "a6006e23",
   "metadata": {},
   "outputs": [
    {
     "data": {
      "text/html": [
       "<div>\n",
       "<style scoped>\n",
       "    .dataframe tbody tr th:only-of-type {\n",
       "        vertical-align: middle;\n",
       "    }\n",
       "\n",
       "    .dataframe tbody tr th {\n",
       "        vertical-align: top;\n",
       "    }\n",
       "\n",
       "    .dataframe thead th {\n",
       "        text-align: right;\n",
       "    }\n",
       "</style>\n",
       "<table border=\"1\" class=\"dataframe\">\n",
       "  <thead>\n",
       "    <tr style=\"text-align: right;\">\n",
       "      <th></th>\n",
       "      <th>transactionId</th>\n",
       "      <th>visitorId</th>\n",
       "      <th>date</th>\n",
       "      <th>revenue</th>\n",
       "      <th>group</th>\n",
       "    </tr>\n",
       "  </thead>\n",
       "  <tbody>\n",
       "    <tr>\n",
       "      <th>count</th>\n",
       "      <td>1.197000e+03</td>\n",
       "      <td>1.197000e+03</td>\n",
       "      <td>1197</td>\n",
       "      <td>1.197000e+03</td>\n",
       "      <td>1197</td>\n",
       "    </tr>\n",
       "    <tr>\n",
       "      <th>unique</th>\n",
       "      <td>NaN</td>\n",
       "      <td>NaN</td>\n",
       "      <td>31</td>\n",
       "      <td>NaN</td>\n",
       "      <td>2</td>\n",
       "    </tr>\n",
       "    <tr>\n",
       "      <th>top</th>\n",
       "      <td>NaN</td>\n",
       "      <td>NaN</td>\n",
       "      <td>2019-08-05</td>\n",
       "      <td>NaN</td>\n",
       "      <td>B</td>\n",
       "    </tr>\n",
       "    <tr>\n",
       "      <th>freq</th>\n",
       "      <td>NaN</td>\n",
       "      <td>NaN</td>\n",
       "      <td>48</td>\n",
       "      <td>NaN</td>\n",
       "      <td>640</td>\n",
       "    </tr>\n",
       "    <tr>\n",
       "      <th>mean</th>\n",
       "      <td>2.155621e+09</td>\n",
       "      <td>2.165960e+09</td>\n",
       "      <td>NaN</td>\n",
       "      <td>8.348006e+03</td>\n",
       "      <td>NaN</td>\n",
       "    </tr>\n",
       "    <tr>\n",
       "      <th>std</th>\n",
       "      <td>1.229085e+09</td>\n",
       "      <td>1.236014e+09</td>\n",
       "      <td>NaN</td>\n",
       "      <td>3.919113e+04</td>\n",
       "      <td>NaN</td>\n",
       "    </tr>\n",
       "    <tr>\n",
       "      <th>min</th>\n",
       "      <td>1.062393e+06</td>\n",
       "      <td>5.114589e+06</td>\n",
       "      <td>NaN</td>\n",
       "      <td>5.000000e+01</td>\n",
       "      <td>NaN</td>\n",
       "    </tr>\n",
       "    <tr>\n",
       "      <th>25%</th>\n",
       "      <td>1.166776e+09</td>\n",
       "      <td>1.111826e+09</td>\n",
       "      <td>NaN</td>\n",
       "      <td>1.220000e+03</td>\n",
       "      <td>NaN</td>\n",
       "    </tr>\n",
       "    <tr>\n",
       "      <th>50%</th>\n",
       "      <td>2.145194e+09</td>\n",
       "      <td>2.217985e+09</td>\n",
       "      <td>NaN</td>\n",
       "      <td>2.978000e+03</td>\n",
       "      <td>NaN</td>\n",
       "    </tr>\n",
       "    <tr>\n",
       "      <th>75%</th>\n",
       "      <td>3.237740e+09</td>\n",
       "      <td>3.177606e+09</td>\n",
       "      <td>NaN</td>\n",
       "      <td>8.290000e+03</td>\n",
       "      <td>NaN</td>\n",
       "    </tr>\n",
       "    <tr>\n",
       "      <th>max</th>\n",
       "      <td>4.293856e+09</td>\n",
       "      <td>4.283872e+09</td>\n",
       "      <td>NaN</td>\n",
       "      <td>1.294500e+06</td>\n",
       "      <td>NaN</td>\n",
       "    </tr>\n",
       "  </tbody>\n",
       "</table>\n",
       "</div>"
      ],
      "text/plain": [
       "        transactionId     visitorId        date       revenue group\n",
       "count    1.197000e+03  1.197000e+03        1197  1.197000e+03  1197\n",
       "unique            NaN           NaN          31           NaN     2\n",
       "top               NaN           NaN  2019-08-05           NaN     B\n",
       "freq              NaN           NaN          48           NaN   640\n",
       "mean     2.155621e+09  2.165960e+09         NaN  8.348006e+03   NaN\n",
       "std      1.229085e+09  1.236014e+09         NaN  3.919113e+04   NaN\n",
       "min      1.062393e+06  5.114589e+06         NaN  5.000000e+01   NaN\n",
       "25%      1.166776e+09  1.111826e+09         NaN  1.220000e+03   NaN\n",
       "50%      2.145194e+09  2.217985e+09         NaN  2.978000e+03   NaN\n",
       "75%      3.237740e+09  3.177606e+09         NaN  8.290000e+03   NaN\n",
       "max      4.293856e+09  4.283872e+09         NaN  1.294500e+06   NaN"
      ]
     },
     "execution_count": 8,
     "metadata": {},
     "output_type": "execute_result"
    }
   ],
   "source": [
    "orders.describe(include='all')"
   ]
  },
  {
   "cell_type": "markdown",
   "id": "4444b815",
   "metadata": {},
   "source": [
    "Нам предоставлены данные за 31 день. Группа B более активная, у нее 640 заказов, у группы А соответственно 557 заказов. У группы В заказов больше на 15%, это довольно много. "
   ]
  },
  {
   "cell_type": "code",
   "execution_count": 9,
   "id": "0eccd6df",
   "metadata": {},
   "outputs": [
    {
     "data": {
      "text/html": [
       "<div>\n",
       "<style scoped>\n",
       "    .dataframe tbody tr th:only-of-type {\n",
       "        vertical-align: middle;\n",
       "    }\n",
       "\n",
       "    .dataframe tbody tr th {\n",
       "        vertical-align: top;\n",
       "    }\n",
       "\n",
       "    .dataframe thead th {\n",
       "        text-align: right;\n",
       "    }\n",
       "</style>\n",
       "<table border=\"1\" class=\"dataframe\">\n",
       "  <thead>\n",
       "    <tr style=\"text-align: right;\">\n",
       "      <th></th>\n",
       "      <th>date</th>\n",
       "      <th>group</th>\n",
       "      <th>visitors</th>\n",
       "    </tr>\n",
       "  </thead>\n",
       "  <tbody>\n",
       "    <tr>\n",
       "      <th>count</th>\n",
       "      <td>62</td>\n",
       "      <td>62</td>\n",
       "      <td>62.000000</td>\n",
       "    </tr>\n",
       "    <tr>\n",
       "      <th>unique</th>\n",
       "      <td>31</td>\n",
       "      <td>2</td>\n",
       "      <td>NaN</td>\n",
       "    </tr>\n",
       "    <tr>\n",
       "      <th>top</th>\n",
       "      <td>2019-08-01</td>\n",
       "      <td>A</td>\n",
       "      <td>NaN</td>\n",
       "    </tr>\n",
       "    <tr>\n",
       "      <th>freq</th>\n",
       "      <td>2</td>\n",
       "      <td>31</td>\n",
       "      <td>NaN</td>\n",
       "    </tr>\n",
       "    <tr>\n",
       "      <th>mean</th>\n",
       "      <td>NaN</td>\n",
       "      <td>NaN</td>\n",
       "      <td>607.290323</td>\n",
       "    </tr>\n",
       "    <tr>\n",
       "      <th>std</th>\n",
       "      <td>NaN</td>\n",
       "      <td>NaN</td>\n",
       "      <td>114.400560</td>\n",
       "    </tr>\n",
       "    <tr>\n",
       "      <th>min</th>\n",
       "      <td>NaN</td>\n",
       "      <td>NaN</td>\n",
       "      <td>361.000000</td>\n",
       "    </tr>\n",
       "    <tr>\n",
       "      <th>25%</th>\n",
       "      <td>NaN</td>\n",
       "      <td>NaN</td>\n",
       "      <td>534.000000</td>\n",
       "    </tr>\n",
       "    <tr>\n",
       "      <th>50%</th>\n",
       "      <td>NaN</td>\n",
       "      <td>NaN</td>\n",
       "      <td>624.500000</td>\n",
       "    </tr>\n",
       "    <tr>\n",
       "      <th>75%</th>\n",
       "      <td>NaN</td>\n",
       "      <td>NaN</td>\n",
       "      <td>710.500000</td>\n",
       "    </tr>\n",
       "    <tr>\n",
       "      <th>max</th>\n",
       "      <td>NaN</td>\n",
       "      <td>NaN</td>\n",
       "      <td>770.000000</td>\n",
       "    </tr>\n",
       "  </tbody>\n",
       "</table>\n",
       "</div>"
      ],
      "text/plain": [
       "              date group    visitors\n",
       "count           62    62   62.000000\n",
       "unique          31     2         NaN\n",
       "top     2019-08-01     A         NaN\n",
       "freq             2    31         NaN\n",
       "mean           NaN   NaN  607.290323\n",
       "std            NaN   NaN  114.400560\n",
       "min            NaN   NaN  361.000000\n",
       "25%            NaN   NaN  534.000000\n",
       "50%            NaN   NaN  624.500000\n",
       "75%            NaN   NaN  710.500000\n",
       "max            NaN   NaN  770.000000"
      ]
     },
     "execution_count": 9,
     "metadata": {},
     "output_type": "execute_result"
    }
   ],
   "source": [
    "visitors.describe(include='all')"
   ]
  },
  {
   "cell_type": "markdown",
   "id": "4ff882d6",
   "metadata": {},
   "source": [
    "### Проверка выборки"
   ]
  },
  {
   "cell_type": "markdown",
   "id": "8412ab7b",
   "metadata": {},
   "source": [
    "Проверим, что пользователей из группы A нет в группе B."
   ]
  },
  {
   "cell_type": "code",
   "execution_count": 10,
   "id": "b9f78f80",
   "metadata": {},
   "outputs": [
    {
     "data": {
      "text/plain": [
       "58"
      ]
     },
     "execution_count": 10,
     "metadata": {},
     "output_type": "execute_result"
    }
   ],
   "source": [
    "ordersA = orders.loc[orders['group'] == 'A'] \n",
    "ordersB = orders.loc[orders['group'] == 'B']\n",
    "\n",
    "ordersAB = ordersA.merge(ordersB, left_on='visitorId', right_on='visitorId', how='inner')\n",
    "ordersAB['visitorId'].nunique()"
   ]
  },
  {
   "cell_type": "markdown",
   "id": "1b572161",
   "metadata": {},
   "source": [
    "Такие пользователи есть."
   ]
  },
  {
   "cell_type": "code",
   "execution_count": 11,
   "id": "cdb3fd27",
   "metadata": {
    "scrolled": true
   },
   "outputs": [
    {
     "name": "stdout",
     "output_type": "stream",
     "text": [
      "Уникальных пользователей группы А: 503\n",
      "Уникальных пользователей группы B: 586\n"
     ]
    }
   ],
   "source": [
    "print('Уникальных пользователей группы А:',ordersA['visitorId'].nunique())\n",
    "print('Уникальных пользователей группы B:',ordersB['visitorId'].nunique())"
   ]
  },
  {
   "cell_type": "markdown",
   "id": "2697cc97",
   "metadata": {},
   "source": [
    "У группы B значительно больше заказов и уникальных пользователей на 16,5% больше чем у A. Также у нас есть множество пользователей, которые встечаются и в группе А и в группе В, что является ошибкой.  \n",
    "Что можно сделать: \n",
    "1. Чтобы не терять данные перенести задвоенных пользователей в группу A, но мы исказим предоставленные нам выборки.\n",
    "2. Удалить данные, разницу оставить как есть. Не каждый посетитель становится заказчиком, поэтому нас не должна смущать разница в 16,5%.\n",
    "3. Оставить как есть, эти пользователи уже есть в таблице visitors.\n",
    "\n",
    "Оставим всё как есть. "
   ]
  },
  {
   "cell_type": "code",
   "execution_count": 12,
   "id": "df59079d",
   "metadata": {
    "scrolled": true
   },
   "outputs": [
    {
     "name": "stdout",
     "output_type": "stream",
     "text": [
      "Уникальных пользователей группы А: 503\n",
      "Уникальных пользователей группы B: 586\n",
      "Уникальных заказов группы А: 557\n",
      "Уникальных заказов группы B: 640\n"
     ]
    }
   ],
   "source": [
    "\n",
    "dual_user_list = ordersAB['visitorId'].unique() # список пользователей, встречающихся в группе А и В\n",
    "\n",
    "# проверка гипотезы о равенстве долей\n",
    "# orders.loc[orders['visitorId'].isin(dual_user_list), 'group'] = 'A' # первый вариант\n",
    "# orders = orders.loc[~orders['visitorId'].isin(dual_user_list)] # второй вариант\n",
    "# третий вариант - ничего не менять\n",
    "\n",
    "\n",
    "ordersA = orders.loc[orders['group'] == 'A'] \n",
    "ordersB = orders.loc[orders['group'] == 'B']\n",
    "\n",
    "print('Уникальных пользователей группы А:',ordersA['visitorId'].nunique())\n",
    "print('Уникальных пользователей группы B:',ordersB['visitorId'].nunique())\n",
    "\n",
    "print('Уникальных заказов группы А:',ordersA['transactionId'].nunique())\n",
    "print('Уникальных заказов группы B:',ordersB['transactionId'].nunique())"
   ]
  },
  {
   "cell_type": "code",
   "execution_count": 13,
   "id": "758707cf",
   "metadata": {},
   "outputs": [],
   "source": [
    "# alpha = 0.05  # критический уровень статистической значимости\n",
    "\n",
    "# total_orders = np.array([100, 100])\n",
    "# total_visiters = np.array([400, 500])\n",
    "\n",
    "# ordersA = orders.loc[orders['group'] == 'A', 'visitorId'].nunique()\n",
    "# ordersB = orders.loc[orders['group'] == 'B', 'visitorId'].nunique()\n",
    "\n",
    "# visitorsA = visitors.loc[visitors['group'] == 'A', 'visitors'].sum() \n",
    "# visitorsB = visitors.loc[visitors['group'] == 'B', 'visitors'].sum()\n",
    "\n",
    "# # пропорция успехов в первой группе:\n",
    "# p1 = ordersA/visitorsA\n",
    "\n",
    "# # пропорция успехов во второй группе:\n",
    "# p2 = ordersB/visitorsB\n",
    "\n",
    "# # пропорция успехов в комбинированном датасете:\n",
    "# p_combined = (ordersA + ordersB) / (visitorsA + visitorsB)\n",
    "\n",
    "# # разница пропорций в датасетах\n",
    "# difference = p1 - p2 \n",
    "# z_value = difference / mth.sqrt(p_combined * (1 - p_combined) * (1/visitorsA + 1/visitorsB))\n",
    "\n",
    "# # задаем стандартное нормальное распределение (среднее 0, ст.отклонение 1)\n",
    "# distr = st.norm(0, 1)  \n",
    "\n",
    "# p_value = (1 - distr.cdf(abs(z_value))) * 2\n",
    "\n",
    "# print('p-значение: ', p_value)\n",
    "\n",
    "# if p_value < alpha:\n",
    "#     print('Отвергаем нулевую гипотезу: между долями есть значимая разница')\n",
    "# else:\n",
    "#     print(\n",
    "#         'Не получилось отвергнуть нулевую гипотезу, нет оснований считать доли разными'\n",
    "#     )"
   ]
  },
  {
   "cell_type": "markdown",
   "id": "65313c19",
   "metadata": {},
   "source": [
    "## Приоритизация гипотез."
   ]
  },
  {
   "cell_type": "markdown",
   "id": "2332eb36",
   "metadata": {},
   "source": [
    "### ICE"
   ]
  },
  {
   "cell_type": "markdown",
   "id": "aa599965",
   "metadata": {},
   "source": [
    "Посчитаем ICE для гипотез. Добавим полученные значения ICE к существующей таблице. "
   ]
  },
  {
   "cell_type": "code",
   "execution_count": 14,
   "id": "0ccd6039",
   "metadata": {},
   "outputs": [
    {
     "data": {
      "text/html": [
       "<div>\n",
       "<style scoped>\n",
       "    .dataframe tbody tr th:only-of-type {\n",
       "        vertical-align: middle;\n",
       "    }\n",
       "\n",
       "    .dataframe tbody tr th {\n",
       "        vertical-align: top;\n",
       "    }\n",
       "\n",
       "    .dataframe thead th {\n",
       "        text-align: right;\n",
       "    }\n",
       "</style>\n",
       "<table border=\"1\" class=\"dataframe\">\n",
       "  <thead>\n",
       "    <tr style=\"text-align: right;\">\n",
       "      <th></th>\n",
       "      <th>hypothesis</th>\n",
       "      <th>ICE</th>\n",
       "    </tr>\n",
       "  </thead>\n",
       "  <tbody>\n",
       "    <tr>\n",
       "      <th>8</th>\n",
       "      <td>Запустить акцию, дающую скидку на товар в день рождения</td>\n",
       "      <td>16.2</td>\n",
       "    </tr>\n",
       "    <tr>\n",
       "      <th>0</th>\n",
       "      <td>Добавить два новых канала привлечения трафика, что позволит привлекать на 30% больше пользователей</td>\n",
       "      <td>13.3</td>\n",
       "    </tr>\n",
       "    <tr>\n",
       "      <th>7</th>\n",
       "      <td>Добавить форму подписки на все основные страницы, чтобы собрать базу клиентов для email-рассылок</td>\n",
       "      <td>11.2</td>\n",
       "    </tr>\n",
       "    <tr>\n",
       "      <th>6</th>\n",
       "      <td>Показать на главной странице баннеры с актуальными акциями и распродажами, чтобы увеличить конверсию</td>\n",
       "      <td>8.0</td>\n",
       "    </tr>\n",
       "    <tr>\n",
       "      <th>2</th>\n",
       "      <td>Добавить блоки рекомендаций на сайт, чтобы повысить конверсию и средний чек заказа</td>\n",
       "      <td>7.0</td>\n",
       "    </tr>\n",
       "    <tr>\n",
       "      <th>1</th>\n",
       "      <td>Запустить собственную службу сопровождения,что увеличит вовлеченность</td>\n",
       "      <td>2.0</td>\n",
       "    </tr>\n",
       "    <tr>\n",
       "      <th>5</th>\n",
       "      <td>Добавить страницу отзывов, что позволит увеличить количество заказов</td>\n",
       "      <td>1.3</td>\n",
       "    </tr>\n",
       "    <tr>\n",
       "      <th>3</th>\n",
       "      <td>Изменить структура категорий, что увеличит конверсию, т.к. пользователи быстрее найдут нужный товар</td>\n",
       "      <td>1.1</td>\n",
       "    </tr>\n",
       "    <tr>\n",
       "      <th>4</th>\n",
       "      <td>Изменить цвет фона главной страницы, чтобы увеличить вовлеченность пользователей</td>\n",
       "      <td>1.0</td>\n",
       "    </tr>\n",
       "  </tbody>\n",
       "</table>\n",
       "</div>"
      ],
      "text/plain": [
       "                                                                                             hypothesis  \\\n",
       "8                                               Запустить акцию, дающую скидку на товар в день рождения   \n",
       "0    Добавить два новых канала привлечения трафика, что позволит привлекать на 30% больше пользователей   \n",
       "7      Добавить форму подписки на все основные страницы, чтобы собрать базу клиентов для email-рассылок   \n",
       "6  Показать на главной странице баннеры с актуальными акциями и распродажами, чтобы увеличить конверсию   \n",
       "2                    Добавить блоки рекомендаций на сайт, чтобы повысить конверсию и средний чек заказа   \n",
       "1                                 Запустить собственную службу сопровождения,что увеличит вовлеченность   \n",
       "5                                  Добавить страницу отзывов, что позволит увеличить количество заказов   \n",
       "3   Изменить структура категорий, что увеличит конверсию, т.к. пользователи быстрее найдут нужный товар   \n",
       "4                      Изменить цвет фона главной страницы, чтобы увеличить вовлеченность пользователей   \n",
       "\n",
       "    ICE  \n",
       "8  16.2  \n",
       "0  13.3  \n",
       "7  11.2  \n",
       "6   8.0  \n",
       "2   7.0  \n",
       "1   2.0  \n",
       "5   1.3  \n",
       "3   1.1  \n",
       "4   1.0  "
      ]
     },
     "metadata": {},
     "output_type": "display_data"
    }
   ],
   "source": [
    "data['ICE'] = (data['impact'] * data['confidence']) / data['efforts']\n",
    "\n",
    "data['ICE'] = data['ICE'].map(lambda x: round(x, 1))\n",
    "\n",
    "display(data[['hypothesis', 'ICE']].sort_values('ICE', ascending=False))"
   ]
  },
  {
   "cell_type": "markdown",
   "id": "8b72f4da",
   "metadata": {},
   "source": [
    "**Промежуточный вывод:**\n",
    "- наиболее перспективные гипотезы: 9, 1, 8, 7, 3"
   ]
  },
  {
   "cell_type": "markdown",
   "id": "4b85a0b9",
   "metadata": {},
   "source": [
    "### RICE"
   ]
  },
  {
   "cell_type": "markdown",
   "id": "3d7abae9",
   "metadata": {},
   "source": [
    "Посчитаем RICE для гипотез. Добавим полученные значения RICE к существующей таблице. "
   ]
  },
  {
   "cell_type": "code",
   "execution_count": 15,
   "id": "1edd0450",
   "metadata": {},
   "outputs": [
    {
     "data": {
      "text/html": [
       "<div>\n",
       "<style scoped>\n",
       "    .dataframe tbody tr th:only-of-type {\n",
       "        vertical-align: middle;\n",
       "    }\n",
       "\n",
       "    .dataframe tbody tr th {\n",
       "        vertical-align: top;\n",
       "    }\n",
       "\n",
       "    .dataframe thead th {\n",
       "        text-align: right;\n",
       "    }\n",
       "</style>\n",
       "<table border=\"1\" class=\"dataframe\">\n",
       "  <thead>\n",
       "    <tr style=\"text-align: right;\">\n",
       "      <th></th>\n",
       "      <th>hypothesis</th>\n",
       "      <th>RICE</th>\n",
       "    </tr>\n",
       "  </thead>\n",
       "  <tbody>\n",
       "    <tr>\n",
       "      <th>7</th>\n",
       "      <td>Добавить форму подписки на все основные страницы, чтобы собрать базу клиентов для email-рассылок</td>\n",
       "      <td>112.0</td>\n",
       "    </tr>\n",
       "    <tr>\n",
       "      <th>2</th>\n",
       "      <td>Добавить блоки рекомендаций на сайт, чтобы повысить конверсию и средний чек заказа</td>\n",
       "      <td>56.0</td>\n",
       "    </tr>\n",
       "    <tr>\n",
       "      <th>0</th>\n",
       "      <td>Добавить два новых канала привлечения трафика, что позволит привлекать на 30% больше пользователей</td>\n",
       "      <td>40.0</td>\n",
       "    </tr>\n",
       "    <tr>\n",
       "      <th>6</th>\n",
       "      <td>Показать на главной странице баннеры с актуальными акциями и распродажами, чтобы увеличить конверсию</td>\n",
       "      <td>40.0</td>\n",
       "    </tr>\n",
       "    <tr>\n",
       "      <th>8</th>\n",
       "      <td>Запустить акцию, дающую скидку на товар в день рождения</td>\n",
       "      <td>16.2</td>\n",
       "    </tr>\n",
       "    <tr>\n",
       "      <th>3</th>\n",
       "      <td>Изменить структура категорий, что увеличит конверсию, т.к. пользователи быстрее найдут нужный товар</td>\n",
       "      <td>9.0</td>\n",
       "    </tr>\n",
       "    <tr>\n",
       "      <th>1</th>\n",
       "      <td>Запустить собственную службу сопровождения,что увеличит вовлеченность</td>\n",
       "      <td>4.0</td>\n",
       "    </tr>\n",
       "    <tr>\n",
       "      <th>5</th>\n",
       "      <td>Добавить страницу отзывов, что позволит увеличить количество заказов</td>\n",
       "      <td>4.0</td>\n",
       "    </tr>\n",
       "    <tr>\n",
       "      <th>4</th>\n",
       "      <td>Изменить цвет фона главной страницы, чтобы увеличить вовлеченность пользователей</td>\n",
       "      <td>3.0</td>\n",
       "    </tr>\n",
       "  </tbody>\n",
       "</table>\n",
       "</div>"
      ],
      "text/plain": [
       "                                                                                             hypothesis  \\\n",
       "7      Добавить форму подписки на все основные страницы, чтобы собрать базу клиентов для email-рассылок   \n",
       "2                    Добавить блоки рекомендаций на сайт, чтобы повысить конверсию и средний чек заказа   \n",
       "0    Добавить два новых канала привлечения трафика, что позволит привлекать на 30% больше пользователей   \n",
       "6  Показать на главной странице баннеры с актуальными акциями и распродажами, чтобы увеличить конверсию   \n",
       "8                                               Запустить акцию, дающую скидку на товар в день рождения   \n",
       "3   Изменить структура категорий, что увеличит конверсию, т.к. пользователи быстрее найдут нужный товар   \n",
       "1                                 Запустить собственную службу сопровождения,что увеличит вовлеченность   \n",
       "5                                  Добавить страницу отзывов, что позволит увеличить количество заказов   \n",
       "4                      Изменить цвет фона главной страницы, чтобы увеличить вовлеченность пользователей   \n",
       "\n",
       "    RICE  \n",
       "7  112.0  \n",
       "2   56.0  \n",
       "0   40.0  \n",
       "6   40.0  \n",
       "8   16.2  \n",
       "3    9.0  \n",
       "1    4.0  \n",
       "5    4.0  \n",
       "4    3.0  "
      ]
     },
     "metadata": {},
     "output_type": "display_data"
    }
   ],
   "source": [
    "data['RICE'] = (data['reach'] * data['impact'] * data['confidence']) / data['efforts']\n",
    "\n",
    "display(data[['hypothesis', 'RICE']].sort_values('RICE', ascending=False))"
   ]
  },
  {
   "cell_type": "markdown",
   "id": "d27e2c17",
   "metadata": {},
   "source": [
    "**Промежуточный вывод:**\n",
    "- наиболее перспективные гипотезы: 8, 3, 1, 7, 9\n",
    "- у ICE и RICE в топе одни и те же гипотезы"
   ]
  },
  {
   "cell_type": "markdown",
   "id": "f2486348",
   "metadata": {},
   "source": [
    "### Сравнение результатов"
   ]
  },
  {
   "cell_type": "markdown",
   "id": "a044803f",
   "metadata": {},
   "source": [
    "Сравним как поменялось расположение гипотез в зависимости от метода."
   ]
  },
  {
   "cell_type": "code",
   "execution_count": 16,
   "id": "5a8aefd0",
   "metadata": {},
   "outputs": [
    {
     "data": {
      "text/html": [
       "<div>\n",
       "<style scoped>\n",
       "    .dataframe tbody tr th:only-of-type {\n",
       "        vertical-align: middle;\n",
       "    }\n",
       "\n",
       "    .dataframe tbody tr th {\n",
       "        vertical-align: top;\n",
       "    }\n",
       "\n",
       "    .dataframe thead th {\n",
       "        text-align: right;\n",
       "    }\n",
       "</style>\n",
       "<table border=\"1\" class=\"dataframe\">\n",
       "  <thead>\n",
       "    <tr style=\"text-align: right;\">\n",
       "      <th></th>\n",
       "      <th>hypothesis</th>\n",
       "      <th>reach</th>\n",
       "      <th>impact</th>\n",
       "      <th>confidence</th>\n",
       "      <th>efforts</th>\n",
       "      <th>ICE</th>\n",
       "      <th>RICE</th>\n",
       "      <th>ICE_rank</th>\n",
       "      <th>RICE_rank</th>\n",
       "      <th>diff_rank</th>\n",
       "    </tr>\n",
       "  </thead>\n",
       "  <tbody>\n",
       "    <tr>\n",
       "      <th>8</th>\n",
       "      <td>Запустить акцию, дающую скидку на товар в день рождения</td>\n",
       "      <td>1</td>\n",
       "      <td>9</td>\n",
       "      <td>9</td>\n",
       "      <td>5</td>\n",
       "      <td>16.2</td>\n",
       "      <td>16.2</td>\n",
       "      <td>1</td>\n",
       "      <td>5</td>\n",
       "      <td>-4</td>\n",
       "    </tr>\n",
       "    <tr>\n",
       "      <th>0</th>\n",
       "      <td>Добавить два новых канала привлечения трафика, что позволит привлекать на 30% больше пользователей</td>\n",
       "      <td>3</td>\n",
       "      <td>10</td>\n",
       "      <td>8</td>\n",
       "      <td>6</td>\n",
       "      <td>13.3</td>\n",
       "      <td>40.0</td>\n",
       "      <td>2</td>\n",
       "      <td>3</td>\n",
       "      <td>-1</td>\n",
       "    </tr>\n",
       "    <tr>\n",
       "      <th>7</th>\n",
       "      <td>Добавить форму подписки на все основные страницы, чтобы собрать базу клиентов для email-рассылок</td>\n",
       "      <td>10</td>\n",
       "      <td>7</td>\n",
       "      <td>8</td>\n",
       "      <td>5</td>\n",
       "      <td>11.2</td>\n",
       "      <td>112.0</td>\n",
       "      <td>3</td>\n",
       "      <td>1</td>\n",
       "      <td>2</td>\n",
       "    </tr>\n",
       "    <tr>\n",
       "      <th>6</th>\n",
       "      <td>Показать на главной странице баннеры с актуальными акциями и распродажами, чтобы увеличить конверсию</td>\n",
       "      <td>5</td>\n",
       "      <td>3</td>\n",
       "      <td>8</td>\n",
       "      <td>3</td>\n",
       "      <td>8.0</td>\n",
       "      <td>40.0</td>\n",
       "      <td>4</td>\n",
       "      <td>3</td>\n",
       "      <td>0</td>\n",
       "    </tr>\n",
       "    <tr>\n",
       "      <th>2</th>\n",
       "      <td>Добавить блоки рекомендаций на сайт, чтобы повысить конверсию и средний чек заказа</td>\n",
       "      <td>8</td>\n",
       "      <td>3</td>\n",
       "      <td>7</td>\n",
       "      <td>3</td>\n",
       "      <td>7.0</td>\n",
       "      <td>56.0</td>\n",
       "      <td>5</td>\n",
       "      <td>2</td>\n",
       "      <td>3</td>\n",
       "    </tr>\n",
       "  </tbody>\n",
       "</table>\n",
       "</div>"
      ],
      "text/plain": [
       "                                                                                             hypothesis  \\\n",
       "8                                               Запустить акцию, дающую скидку на товар в день рождения   \n",
       "0    Добавить два новых канала привлечения трафика, что позволит привлекать на 30% больше пользователей   \n",
       "7      Добавить форму подписки на все основные страницы, чтобы собрать базу клиентов для email-рассылок   \n",
       "6  Показать на главной странице баннеры с актуальными акциями и распродажами, чтобы увеличить конверсию   \n",
       "2                    Добавить блоки рекомендаций на сайт, чтобы повысить конверсию и средний чек заказа   \n",
       "\n",
       "   reach  impact  confidence  efforts   ICE   RICE  ICE_rank  RICE_rank  \\\n",
       "8      1       9           9        5  16.2   16.2         1          5   \n",
       "0      3      10           8        6  13.3   40.0         2          3   \n",
       "7     10       7           8        5  11.2  112.0         3          1   \n",
       "6      5       3           8        3   8.0   40.0         4          3   \n",
       "2      8       3           7        3   7.0   56.0         5          2   \n",
       "\n",
       "   diff_rank  \n",
       "8         -4  \n",
       "0         -1  \n",
       "7          2  \n",
       "6          0  \n",
       "2          3  "
      ]
     },
     "metadata": {},
     "output_type": "display_data"
    }
   ],
   "source": [
    "top_data = data.sort_values('ICE', ascending=False).head(5)\n",
    "top_data['ICE_rank'] = top_data['ICE'].rank(ascending=False)\n",
    "top_data['RICE_rank'] = top_data['RICE'].rank(ascending=False)\n",
    "top_data['diff_rank'] = top_data['ICE_rank'] - top_data['RICE_rank']\n",
    "\n",
    "top_data = top_data.astype({'ICE_rank': np.int8, 'RICE_rank': np.int8, 'diff_rank': np.int8})\n",
    "display(top_data)"
   ]
  },
  {
   "cell_type": "markdown",
   "id": "3148ec71",
   "metadata": {},
   "source": [
    "В топ-5 по методам ICE и RICE попадают одни и те же гипотезы: 1, 3, 7, 8, 9.\n",
    "Однако, гипотеза 9 (Запустить акцию, дающую скидку на товар в день рождения) ощутимо меняет позицию, когда мы учитываем параметр reach (влияние на пользователей).  \n",
    "Количество пользователей, которые получат скидку на день рождения в краткосрочной перспективе невелико, дни рождения пользователей скорее всего распределены равномерно по году. С другой стороны, если рассматривать акцию как долгосрочную, влияние на пользователей будет существенней. И проблема с формулировкой гипотезы также не дает нам ясности, какой эффект мы ожидаем.\n",
    "\n",
    "3 и 8 гипотезы хотя и не обладают сильным влиянием на пользовательский опыт, но затрагивают максимальное количество пользователей. Поэтому их позиция по методу RICE в топ-3."
   ]
  },
  {
   "cell_type": "markdown",
   "id": "27df3bb4",
   "metadata": {},
   "source": [
    "## Анализ A/B-теста"
   ]
  },
  {
   "cell_type": "markdown",
   "id": "f148f88e",
   "metadata": {},
   "source": [
    "### График кумулятивной выручки по группам"
   ]
  },
  {
   "cell_type": "markdown",
   "id": "83564ec1",
   "metadata": {},
   "source": [
    "Подготовим данные для вывода графиков."
   ]
  },
  {
   "cell_type": "code",
   "execution_count": 17,
   "id": "c965b698",
   "metadata": {},
   "outputs": [],
   "source": [
    "orders['date'] = pd.to_datetime(orders['date'])\n",
    "\n",
    "\n",
    "visitors['date'] = pd.to_datetime(visitors['date'])\n",
    "\n",
    "datesGroups = orders[['date', 'group']].drop_duplicates()\n",
    "\n",
    "ordersAggregated = datesGroups.apply(\n",
    "    lambda x: orders[\n",
    "        np.logical_and(\n",
    "            orders['date'] <= x['date'], orders['group'] == x['group']\n",
    "        )\n",
    "    ].agg(\n",
    "        {\n",
    "            'date': 'max',\n",
    "            'group': 'max',\n",
    "            'transactionId': 'nunique',\n",
    "            'visitorId': 'nunique',\n",
    "            'revenue': 'sum',\n",
    "        }\n",
    "    ),\n",
    "    axis=1,\n",
    ").sort_values(by=['date', 'group'])\n",
    "\n",
    "visitorsAggregated = datesGroups.apply(\n",
    "    lambda x: visitors[\n",
    "        np.logical_and(\n",
    "            visitors['date'] <= x['date'], visitors['group'] == x['group']\n",
    "        )\n",
    "    ].agg({'date': 'max', 'group': 'max', 'visitors': 'sum'}),\n",
    "    axis=1,\n",
    ").sort_values(by=['date', 'group'])\n",
    "\n",
    "cumulativeData = ordersAggregated.merge(\n",
    "    visitorsAggregated, left_on=['date', 'group'], right_on=['date', 'group']\n",
    ")\n",
    "cumulativeData.columns = [\n",
    "    'date',\n",
    "    'group',\n",
    "    'orders',\n",
    "    'buyers',\n",
    "    'revenue',\n",
    "    'visitors',\n",
    "]\n"
   ]
  },
  {
   "cell_type": "code",
   "execution_count": 18,
   "id": "e8144716",
   "metadata": {},
   "outputs": [
    {
     "data": {
      "image/png": "[encoded data removed]",
      "text/plain": [
       "<Figure size 720x504 with 1 Axes>"
      ]
     },
     "metadata": {
      "needs_background": "light"
     },
     "output_type": "display_data"
    }
   ],
   "source": [
    "# датафрейм с кумулятивным количеством заказов и кумулятивной выручкой по дням в группе А\n",
    "cumulativeRevenueA = cumulativeData[cumulativeData['group']=='A'][['date','revenue', 'orders']]\n",
    "\n",
    "# датафрейм с кумулятивным количеством заказов и кумулятивной выручкой по дням в группе B\n",
    "cumulativeRevenueB = cumulativeData[cumulativeData['group']=='B'][['date','revenue', 'orders']]\n",
    "\n",
    "# Строим график выручки группы А\n",
    "plt.figure(figsize=(10,7))\n",
    "plt.plot(cumulativeRevenueA['date'], cumulativeRevenueA['revenue'], label='A')\n",
    "\n",
    "# Строим график выручки группы B\n",
    "plt.plot(cumulativeRevenueB['date'], cumulativeRevenueB['revenue'], label='B')\n",
    "\n",
    "plt.legend()\n",
    "plt.title(\"График кумулятивной выручки по группам\")\n",
    "plt.ylabel(\"Выручка\")\n",
    "plt.xticks(rotation = 90) \n",
    "plt.show()"
   ]
  },
  {
   "cell_type": "markdown",
   "id": "5af23446",
   "metadata": {},
   "source": [
    "**Промежуточный вывод:**\n",
    "- В середине теста группа B резко вырвалась вперед и продолжала лидировать до конца теста. Похоже на аномалию."
   ]
  },
  {
   "cell_type": "markdown",
   "id": "573d69a0",
   "metadata": {},
   "source": [
    "### График кумулятивного среднего чека по группам"
   ]
  },
  {
   "cell_type": "code",
   "execution_count": 19,
   "id": "8621788e",
   "metadata": {},
   "outputs": [
    {
     "data": {
      "image/png": "[encoded data removed]",
      "text/plain": [
       "<Figure size 720x504 with 1 Axes>"
      ]
     },
     "metadata": {
      "needs_background": "light"
     },
     "output_type": "display_data"
    }
   ],
   "source": [
    "plt.figure(figsize=(10,7))\n",
    "plt.plot(cumulativeRevenueA['date'], cumulativeRevenueA['revenue']/cumulativeRevenueA['orders'], label='A')\n",
    "plt.plot(cumulativeRevenueB['date'], cumulativeRevenueB['revenue']/cumulativeRevenueB['orders'], label='B')\n",
    "plt.legend()\n",
    "plt.title(\"График кумулятивного среднего чека по группам\")\n",
    "plt.ylabel(\"Средний чек в руб.\")\n",
    "plt.xticks(rotation = 90) \n",
    "plt.show()"
   ]
  },
  {
   "cell_type": "markdown",
   "id": "71fea41d",
   "metadata": {},
   "source": [
    "**Промежуточный вывод:**\n",
    "- Видим тот же скачок в середине теста у группы B."
   ]
  },
  {
   "cell_type": "markdown",
   "id": "14ecc2f1",
   "metadata": {},
   "source": [
    "### График относительного изменения кумулятивного среднего чека группы B к группе A"
   ]
  },
  {
   "cell_type": "code",
   "execution_count": 20,
   "id": "47c76dd9",
   "metadata": {},
   "outputs": [
    {
     "data": {
      "image/png": "[encoded data removed]",
      "text/plain": [
       "<Figure size 720x504 with 1 Axes>"
      ]
     },
     "metadata": {
      "needs_background": "light"
     },
     "output_type": "display_data"
    }
   ],
   "source": [
    "# собираем данные в одном датафрейме\n",
    "mergedCumulativeRevenue = cumulativeRevenueA.merge(cumulativeRevenueB, left_on='date', right_on='date', how='left', suffixes=['A', 'B'])\n",
    "\n",
    "plt.figure(figsize=(10,7))\n",
    "# cтроим отношение средних чеков\n",
    "plt.plot(mergedCumulativeRevenue['date'], (mergedCumulativeRevenue['revenueB']/mergedCumulativeRevenue['ordersB'])/(mergedCumulativeRevenue['revenueA']/mergedCumulativeRevenue['ordersA'])-1)\n",
    "\n",
    "# добавляем ось X\n",
    "plt.axhline(y=0, color='black', linestyle='--') \n",
    "plt.title(\"График относительно различия кумулятивного среднего чека группы B к группе A\")\n",
    "plt.xticks(rotation = 90) \n",
    "plt.show()"
   ]
  },
  {
   "cell_type": "markdown",
   "id": "56ef5313",
   "metadata": {},
   "source": [
    "**Промежуточный вывод:**\n",
    "- результаты теста резко менялись несколько раз, видимо именно тогда совершались аномальные закупки."
   ]
  },
  {
   "cell_type": "markdown",
   "id": "722fb057",
   "metadata": {},
   "source": [
    "### График кумулятивного среднего количества заказов на посетителя по группам"
   ]
  },
  {
   "cell_type": "code",
   "execution_count": 21,
   "id": "ed7ecb30",
   "metadata": {},
   "outputs": [
    {
     "data": {
      "image/png": "[encoded data removed]",
      "text/plain": [
       "<Figure size 720x504 with 1 Axes>"
      ]
     },
     "metadata": {
      "needs_background": "light"
     },
     "output_type": "display_data"
    }
   ],
   "source": [
    "cumulativeData['conversion'] = (\n",
    "    cumulativeData['orders'] / cumulativeData['visitors']\n",
    ")\n",
    "\n",
    "cumulativeDataA = cumulativeData[cumulativeData['group'] == 'A']\n",
    "cumulativeDataB = cumulativeData[cumulativeData['group'] == 'B']\n",
    "\n",
    "mergedCumulativeConversions = cumulativeDataA[['date','conversion']].merge(cumulativeDataB[['date','conversion']], left_on='date', right_on='date', how='left', suffixes=['A', 'B'])\n",
    "\n",
    "plt.figure(figsize=(10,7))\n",
    "# строим графики\n",
    "plt.plot(cumulativeDataA['date'], cumulativeDataA['conversion'], label='A')\n",
    "plt.plot(cumulativeDataB['date'], cumulativeDataB['conversion'], label='B')\n",
    "plt.legend()\n",
    "plt.title(\"График кумулятивного среднего количества заказов на посетителя по группам\")\n",
    "# задаем масштаб осей\n",
    "plt.axis([\"2019-08-01\", '2019-09-01', 0.02, 0.05])\n",
    "\n",
    "plt.xticks(rotation = 90) \n",
    "plt.show()"
   ]
  },
  {
   "cell_type": "markdown",
   "id": "f36bc864",
   "metadata": {},
   "source": [
    "**Промежуточный вывод:**\n",
    "- в начале сегмент А имел большую конверсию, но постепенно сегмент B выровнялся и зафиксировлся примерно на одном значении."
   ]
  },
  {
   "cell_type": "markdown",
   "id": "9cbd71fd",
   "metadata": {},
   "source": [
    "### График относительного изменения кумулятивного среднего количества заказов на посетителя группы B к группе A"
   ]
  },
  {
   "cell_type": "code",
   "execution_count": 22,
   "id": "4b9f7104",
   "metadata": {
    "scrolled": false
   },
   "outputs": [
    {
     "data": {
      "image/png": "[encoded data removed]",
      "text/plain": [
       "<Figure size 720x504 with 1 Axes>"
      ]
     },
     "metadata": {
      "needs_background": "light"
     },
     "output_type": "display_data"
    }
   ],
   "source": [
    "mergedCumulativeConversions = cumulativeDataA[['date','conversion']].merge(cumulativeDataB[['date','conversion']], left_on='date', right_on='date', how='left', suffixes=['A', 'B'])\n",
    "plt.figure(figsize=(10,7))\n",
    "plt.plot(mergedCumulativeConversions['date'], mergedCumulativeConversions['conversionB']/mergedCumulativeConversions['conversionA']-1, label=\"Относительный прирост конверсии группы B относительно группы A\")\n",
    "plt.title(\"График относительного изменения кумулятивного среднего количества заказов на посетителя группы B к группе A\")\n",
    "plt.axhline(y=0, color='black', linestyle='--')\n",
    "plt.axhline(y=0.2, color='grey', linestyle='--')\n",
    "plt.axis([\"2019-08-01\", '2019-09-01', -0.5, 0.5])\n",
    "plt.xticks(rotation = 90) \n",
    "plt.show()"
   ]
  },
  {
   "cell_type": "markdown",
   "id": "9204dfd3",
   "metadata": {},
   "source": [
    "**Промежуточный вывод:**\n",
    "- группа В лидирует по конверсии."
   ]
  },
  {
   "cell_type": "markdown",
   "id": "065cfc5f",
   "metadata": {},
   "source": [
    "### Точечный график количества заказов по пользователям"
   ]
  },
  {
   "cell_type": "code",
   "execution_count": 23,
   "id": "74803fce",
   "metadata": {},
   "outputs": [
    {
     "name": "stdout",
     "output_type": "stream",
     "text": [
      "          userId  orders\n",
      "1023  4256040402      11\n",
      "591   2458001652      11\n",
      "569   2378935119       9\n",
      "487   2038680547       8\n",
      "44     199603092       5\n",
      "744   3062433592       5\n",
      "55     237748145       5\n",
      "917   3803269165       5\n",
      "299   1230306981       5\n",
      "897   3717692402       5\n"
     ]
    },
    {
     "data": {
      "image/png": "[encoded data removed]",
      "text/plain": [
       "<Figure size 504x360 with 1 Axes>"
      ]
     },
     "metadata": {
      "needs_background": "light"
     },
     "output_type": "display_data"
    }
   ],
   "source": [
    "ordersByUsers = (\n",
    "    orders.groupby('visitorId', as_index=False)\n",
    "    .agg({'transactionId': 'nunique'})\n",
    ")\n",
    "ordersByUsers.columns = ['userId', 'orders']\n",
    "\n",
    "print(ordersByUsers.sort_values(by='orders', ascending=False).head(10))\n",
    "\n",
    "x_values = pd.Series(range(0,len(ordersByUsers)))\n",
    "\n",
    "plt.figure(figsize=(7,5))\n",
    "plt.title(\"График количества заказов по пользователям\")\n",
    "plt.scatter(x_values, ordersByUsers['orders']) \n",
    "plt.ylabel(\"Количество заказов\")\n",
    "# серия из чисел от 0 до количества наблюдений в ordersByUsers\n",
    "x_values = pd.Series(range(0, len(ordersByUsers)))"
   ]
  },
  {
   "cell_type": "markdown",
   "id": "5a2a9867",
   "metadata": {},
   "source": [
    "**Промежуточный вывод:**\n",
    "- пользователей, заказавших более двух раз, мало. "
   ]
  },
  {
   "cell_type": "markdown",
   "id": "62b334b6",
   "metadata": {},
   "source": [
    "### 95-й и 99-й перцентили количества заказов на пользователя"
   ]
  },
  {
   "cell_type": "code",
   "execution_count": 24,
   "id": "6bb6aa0c",
   "metadata": {},
   "outputs": [
    {
     "name": "stdout",
     "output_type": "stream",
     "text": [
      "[1. 2. 4.]\n"
     ]
    }
   ],
   "source": [
    "print(np.percentile(ordersByUsers['orders'], [90, 95, 99])) "
   ]
  },
  {
   "cell_type": "markdown",
   "id": "75d1a64f",
   "metadata": {},
   "source": [
    "**Промежуточный вывод:**\n",
    "- не более 5% пользователей совершали заказ более 2 раз, и не более 1% - более 4."
   ]
  },
  {
   "cell_type": "markdown",
   "id": "c7dbf5a3",
   "metadata": {},
   "source": [
    "### Точечный график стоимостей заказов"
   ]
  },
  {
   "cell_type": "code",
   "execution_count": 25,
   "id": "9daa1d80",
   "metadata": {
    "scrolled": false
   },
   "outputs": [
    {
     "name": "stdout",
     "output_type": "stream",
     "text": [
      "      transactionId   visitorId       date  revenue group\n",
      "425       590470918  1920142716 2019-08-19  1294500     B\n",
      "1196     3936777065  2108080724 2019-08-15   202740     B\n",
      "858       192721366  1316129916 2019-08-27    93940     A\n",
      "1136      666610489  1307669133 2019-08-13    92550     A\n",
      "744      3668308183   888512513 2019-08-27    86620     B\n",
      "682      1216533772  4266935830 2019-08-29    78990     B\n",
      "662      1811671147  4266935830 2019-08-29    78990     A\n",
      "743      3603576309  4133034833 2019-08-09    67990     A\n",
      "1103     1348774318  1164614297 2019-08-12    66350     A\n",
      "1099      316924019   148427295 2019-08-12    65710     A\n"
     ]
    },
    {
     "data": {
      "text/plain": [
       "<matplotlib.collections.PathCollection at 0x1c11de3fb50>"
      ]
     },
     "execution_count": 25,
     "metadata": {},
     "output_type": "execute_result"
    },
    {
     "data": {
      "image/png": "[encoded data removed]",
      "text/plain": [
       "<Figure size 504x360 with 1 Axes>"
      ]
     },
     "metadata": {
      "needs_background": "light"
     },
     "output_type": "display_data"
    }
   ],
   "source": [
    "print(orders.sort_values(by='revenue', ascending=False).head(10))\n",
    "\n",
    "x_values = pd.Series(range(0, len(orders['revenue'])))\n",
    "\n",
    "plt.figure(figsize=(7,5))\n",
    "plt.title(\"Точечный график стоимостей заказов\")\n",
    "plt.ylim([0, 100000])\n",
    "plt.ylabel(\"Стоимость заказов\")\n",
    "plt.scatter(x_values, orders['revenue'])"
   ]
  },
  {
   "cell_type": "markdown",
   "id": "db61c3c9",
   "metadata": {},
   "source": [
    "**Промежуточный вывод:**\n",
    "- Есть выбросы между 200 000 - 1 294 500 рублей.\n",
    "- Большая часть заказов на сумму ниже 20 тыс.руб."
   ]
  },
  {
   "cell_type": "markdown",
   "id": "a08db102",
   "metadata": {},
   "source": [
    "### 95-й и 99-й перцентили стоимости заказов"
   ]
  },
  {
   "cell_type": "code",
   "execution_count": 26,
   "id": "e33753d3",
   "metadata": {},
   "outputs": [
    {
     "name": "stdout",
     "output_type": "stream",
     "text": [
      "[18168.  28000.  58233.2]\n"
     ]
    }
   ],
   "source": [
    "print(np.percentile(orders['revenue'], [90, 95, 99])) "
   ]
  },
  {
   "cell_type": "markdown",
   "id": "49933807",
   "metadata": {},
   "source": [
    "**Промежуточный вывод:**\n",
    "- не более 5% пользователей совершали заказ на сумму выше 28 тыс., и не более 1% - на сумму выше 58 тыс."
   ]
  },
  {
   "cell_type": "markdown",
   "id": "3da4d02e",
   "metadata": {},
   "source": [
    "### Статистическая значимость различий в среднем количестве заказов на посетителя между группами по «сырым» данным"
   ]
  },
  {
   "cell_type": "markdown",
   "id": "a2a60ee1",
   "metadata": {},
   "source": [
    "Подготовим данные для расчета статистической значимости."
   ]
  },
  {
   "cell_type": "code",
   "execution_count": 27,
   "id": "52b95fab",
   "metadata": {},
   "outputs": [
    {
     "data": {
      "text/html": [
       "<div>\n",
       "<style scoped>\n",
       "    .dataframe tbody tr th:only-of-type {\n",
       "        vertical-align: middle;\n",
       "    }\n",
       "\n",
       "    .dataframe tbody tr th {\n",
       "        vertical-align: top;\n",
       "    }\n",
       "\n",
       "    .dataframe thead th {\n",
       "        text-align: right;\n",
       "    }\n",
       "</style>\n",
       "<table border=\"1\" class=\"dataframe\">\n",
       "  <thead>\n",
       "    <tr style=\"text-align: right;\">\n",
       "      <th></th>\n",
       "      <th>date</th>\n",
       "      <th>ordersPerDateA</th>\n",
       "      <th>revenuePerDateA</th>\n",
       "      <th>ordersPerDateB</th>\n",
       "      <th>revenuePerDateB</th>\n",
       "      <th>ordersCummulativeA</th>\n",
       "      <th>revenueCummulativeA</th>\n",
       "      <th>ordersCummulativeB</th>\n",
       "      <th>revenueCummulativeB</th>\n",
       "      <th>visitorsPerDateA</th>\n",
       "      <th>visitorsPerDateB</th>\n",
       "      <th>visitorsCummulativeA</th>\n",
       "      <th>visitorsCummulativeB</th>\n",
       "    </tr>\n",
       "  </thead>\n",
       "  <tbody>\n",
       "    <tr>\n",
       "      <th>0</th>\n",
       "      <td>2019-08-01</td>\n",
       "      <td>24</td>\n",
       "      <td>148579</td>\n",
       "      <td>21</td>\n",
       "      <td>101217</td>\n",
       "      <td>24</td>\n",
       "      <td>148579</td>\n",
       "      <td>21</td>\n",
       "      <td>101217</td>\n",
       "      <td>719</td>\n",
       "      <td>713</td>\n",
       "      <td>719</td>\n",
       "      <td>713</td>\n",
       "    </tr>\n",
       "    <tr>\n",
       "      <th>1</th>\n",
       "      <td>2019-08-02</td>\n",
       "      <td>20</td>\n",
       "      <td>93822</td>\n",
       "      <td>24</td>\n",
       "      <td>165531</td>\n",
       "      <td>44</td>\n",
       "      <td>242401</td>\n",
       "      <td>45</td>\n",
       "      <td>266748</td>\n",
       "      <td>619</td>\n",
       "      <td>581</td>\n",
       "      <td>1338</td>\n",
       "      <td>1294</td>\n",
       "    </tr>\n",
       "    <tr>\n",
       "      <th>2</th>\n",
       "      <td>2019-08-03</td>\n",
       "      <td>24</td>\n",
       "      <td>112473</td>\n",
       "      <td>16</td>\n",
       "      <td>114248</td>\n",
       "      <td>68</td>\n",
       "      <td>354874</td>\n",
       "      <td>61</td>\n",
       "      <td>380996</td>\n",
       "      <td>507</td>\n",
       "      <td>509</td>\n",
       "      <td>1845</td>\n",
       "      <td>1803</td>\n",
       "    </tr>\n",
       "    <tr>\n",
       "      <th>3</th>\n",
       "      <td>2019-08-04</td>\n",
       "      <td>16</td>\n",
       "      <td>70825</td>\n",
       "      <td>17</td>\n",
       "      <td>108571</td>\n",
       "      <td>84</td>\n",
       "      <td>425699</td>\n",
       "      <td>78</td>\n",
       "      <td>489567</td>\n",
       "      <td>717</td>\n",
       "      <td>770</td>\n",
       "      <td>2562</td>\n",
       "      <td>2573</td>\n",
       "    </tr>\n",
       "    <tr>\n",
       "      <th>4</th>\n",
       "      <td>2019-08-05</td>\n",
       "      <td>25</td>\n",
       "      <td>124218</td>\n",
       "      <td>23</td>\n",
       "      <td>92428</td>\n",
       "      <td>109</td>\n",
       "      <td>549917</td>\n",
       "      <td>101</td>\n",
       "      <td>581995</td>\n",
       "      <td>756</td>\n",
       "      <td>707</td>\n",
       "      <td>3318</td>\n",
       "      <td>3280</td>\n",
       "    </tr>\n",
       "  </tbody>\n",
       "</table>\n",
       "</div>"
      ],
      "text/plain": [
       "        date  ordersPerDateA  revenuePerDateA  ordersPerDateB  \\\n",
       "0 2019-08-01              24           148579              21   \n",
       "1 2019-08-02              20            93822              24   \n",
       "2 2019-08-03              24           112473              16   \n",
       "3 2019-08-04              16            70825              17   \n",
       "4 2019-08-05              25           124218              23   \n",
       "\n",
       "   revenuePerDateB  ordersCummulativeA  revenueCummulativeA  \\\n",
       "0           101217                  24               148579   \n",
       "1           165531                  44               242401   \n",
       "2           114248                  68               354874   \n",
       "3           108571                  84               425699   \n",
       "4            92428                 109               549917   \n",
       "\n",
       "   ordersCummulativeB  revenueCummulativeB  visitorsPerDateA  \\\n",
       "0                  21               101217               719   \n",
       "1                  45               266748               619   \n",
       "2                  61               380996               507   \n",
       "3                  78               489567               717   \n",
       "4                 101               581995               756   \n",
       "\n",
       "   visitorsPerDateB  visitorsCummulativeA  visitorsCummulativeB  \n",
       "0               713                   719                   713  \n",
       "1               581                  1338                  1294  \n",
       "2               509                  1845                  1803  \n",
       "3               770                  2562                  2573  \n",
       "4               707                  3318                  3280  "
      ]
     },
     "metadata": {},
     "output_type": "display_data"
    }
   ],
   "source": [
    "visitorsADaily = visitors[visitors['group'] == 'A'][['date', 'visitors']]\n",
    "visitorsADaily.columns = ['date', 'visitorsPerDateA']\n",
    "\n",
    "visitorsACummulative = visitorsADaily.apply(\n",
    "    lambda x: visitorsADaily[visitorsADaily['date'] <= x['date']].agg(\n",
    "        {'date': 'max', 'visitorsPerDateA': 'sum'}\n",
    "    ),\n",
    "    axis=1,\n",
    ")\n",
    "visitorsACummulative.columns = ['date', 'visitorsCummulativeA']\n",
    "\n",
    "visitorsBDaily = visitors[visitors['group'] == 'B'][['date', 'visitors']]\n",
    "visitorsBDaily.columns = ['date', 'visitorsPerDateB']\n",
    "\n",
    "visitorsBCummulative = visitorsBDaily.apply(\n",
    "    lambda x: visitorsBDaily[visitorsBDaily['date'] <= x['date']].agg(\n",
    "        {'date': 'max', 'visitorsPerDateB': 'sum'}\n",
    "    ),\n",
    "    axis=1,\n",
    ")\n",
    "visitorsBCummulative.columns = ['date', 'visitorsCummulativeB']\n",
    "\n",
    "ordersADaily = (\n",
    "    orders[orders['group'] == 'A'][['date', 'transactionId', 'visitorId', 'revenue']]\n",
    "    .groupby('date', as_index=False)\n",
    "    .agg({'transactionId': pd.Series.nunique, 'revenue': 'sum'})\n",
    ")\n",
    "ordersADaily.columns = ['date', 'ordersPerDateA', 'revenuePerDateA']\n",
    "\n",
    "ordersACummulative = ordersADaily.apply(\n",
    "    lambda x: ordersADaily[ordersADaily['date'] <= x['date']].agg(\n",
    "        {'date': 'max', 'ordersPerDateA': 'sum', 'revenuePerDateA': 'sum'}\n",
    "    ),\n",
    "    axis=1,\n",
    ").sort_values(by=['date'])\n",
    "ordersACummulative.columns = [\n",
    "    'date',\n",
    "    'ordersCummulativeA',\n",
    "    'revenueCummulativeA',\n",
    "]\n",
    "\n",
    "ordersBDaily = (\n",
    "    orders[orders['group'] == 'B'][['date', 'transactionId', 'visitorId', 'revenue']]\n",
    "    .groupby('date', as_index=False)\n",
    "    .agg({'transactionId': pd.Series.nunique, 'revenue': 'sum'})\n",
    ")\n",
    "ordersBDaily.columns = ['date', 'ordersPerDateB', 'revenuePerDateB']\n",
    "\n",
    "ordersBCummulative = ordersBDaily.apply(\n",
    "    lambda x: ordersBDaily[ordersBDaily['date'] <= x['date']].agg(\n",
    "        {'date': 'max', 'ordersPerDateB': 'sum', 'revenuePerDateB': 'sum'}\n",
    "    ),\n",
    "    axis=1,\n",
    ").sort_values(by=['date'])\n",
    "ordersBCummulative.columns = [\n",
    "    'date',\n",
    "    'ordersCummulativeB',\n",
    "    'revenueCummulativeB',\n",
    "]\n",
    "\n",
    "data = (\n",
    "    ordersADaily.merge(\n",
    "        ordersBDaily, left_on='date', right_on='date', how='left'\n",
    "    )\n",
    "    .merge(ordersACummulative, left_on='date', right_on='date', how='left')\n",
    "    .merge(ordersBCummulative, left_on='date', right_on='date', how='left')\n",
    "    .merge(visitorsADaily, left_on='date', right_on='date', how='left')\n",
    "    .merge(visitorsBDaily, left_on='date', right_on='date', how='left')\n",
    "    .merge(visitorsACummulative, left_on='date', right_on='date', how='left')\n",
    "    .merge(visitorsBCummulative, left_on='date', right_on='date', how='left')\n",
    ")\n",
    "\n",
    "display(data.head(5))"
   ]
  },
  {
   "cell_type": "markdown",
   "id": "d1fabcd5",
   "metadata": {},
   "source": [
    "Сформулируем гипотезы. \n",
    "1. **Нулевая**: различий в среднем количестве заказов между группами нет. **Альтернативная**: различия в среднем между группами есть.\n",
    "2. **Нулевая**: различий в среднем чеке заказа между группами нет. **Альтернативная**: различия в среднем между группами есть.\n",
    "\n",
    "Так как в данных есть аномалии, будем использовать критерий Манна-Уитни.\n",
    "Уровень статистической значимости - 5%.\n"
   ]
  },
  {
   "cell_type": "code",
   "execution_count": 28,
   "id": "3218b4ed",
   "metadata": {
    "scrolled": true
   },
   "outputs": [
    {
     "name": "stdout",
     "output_type": "stream",
     "text": [
      "P-value: 0.01679\n",
      "Относительное различие в среднем между группами: 0.138\n"
     ]
    }
   ],
   "source": [
    "ordersByUsersA = (\n",
    "    orders[orders['group'] == 'A']\n",
    "    .groupby('visitorId', as_index=False)\n",
    "    .agg({'transactionId': pd.Series.nunique})\n",
    ")\n",
    "ordersByUsersA.columns = ['userId', 'orders']\n",
    "\n",
    "ordersByUsersB = (\n",
    "    orders[orders['group'] == 'B']\n",
    "    .groupby('visitorId', as_index=False)\n",
    "    .agg({'transactionId': pd.Series.nunique})\n",
    ")\n",
    "ordersByUsersB.columns = ['userId', 'orders']\n",
    "\n",
    "sampleA = pd.concat(\n",
    "    [\n",
    "        ordersByUsersA['orders'],\n",
    "        pd.Series(\n",
    "            0,\n",
    "            index=np.arange(\n",
    "                data['visitorsPerDateA'].sum() - len(ordersByUsersA['orders'])\n",
    "            ),\n",
    "            name='orders',\n",
    "        ),\n",
    "    ],\n",
    "    axis=0,\n",
    ")\n",
    "\n",
    "sampleB = pd.concat(\n",
    "    [\n",
    "        ordersByUsersB['orders'],\n",
    "        pd.Series(\n",
    "            0,\n",
    "            index=np.arange(\n",
    "                data['visitorsPerDateB'].sum() - len(ordersByUsersB['orders'])\n",
    "            ),\n",
    "            name='orders',\n",
    "        ),\n",
    "    ],\n",
    "    axis=0,\n",
    ")\n",
    "\n",
    "print(\"P-value: {0:.5f}\".format(st.mannwhitneyu(sampleA, sampleB)[1]))\n",
    "\n",
    "print(\"Относительное различие в среднем между группами: {0:.3f}\".format(sampleB.mean() / sampleA.mean() - 1))\n"
   ]
  },
  {
   "cell_type": "markdown",
   "id": "dde6f66c",
   "metadata": {},
   "source": [
    "**Промежуточный вывод:**\n",
    "- P-value меньше 0,05. \n",
    "- Анализ сырых данных сообщает, что в среднем количестве заказов между группамм есть статистически значимые различия. \n",
    "- Относительный прирост среднего группы В к конверсии группы А равен 13,8%"
   ]
  },
  {
   "cell_type": "markdown",
   "id": "61c591ef",
   "metadata": {},
   "source": [
    "### Статистическая значимость различий в среднем чеке заказа между группами по «сырым» данным"
   ]
  },
  {
   "cell_type": "code",
   "execution_count": 29,
   "id": "6c96f494",
   "metadata": {},
   "outputs": [
    {
     "name": "stdout",
     "output_type": "stream",
     "text": [
      "P-value: 0.729\n",
      "Относительный прирост среднего чека группы B: 0.259\n"
     ]
    }
   ],
   "source": [
    "print('P-value: {0:.3f}'.format(st.mannwhitneyu(orders[orders['group']=='A']['revenue'], orders[orders['group']=='B']['revenue'])[1]))\n",
    "print('Относительный прирост среднего чека группы B: {0:.3f}'.format(orders[orders['group']=='B']['revenue'].mean()/orders[orders['group']=='A']['revenue'].mean()-1))"
   ]
  },
  {
   "cell_type": "markdown",
   "id": "e1d14819",
   "metadata": {},
   "source": [
    "**Промежуточный вывод:**\n",
    "- P-value больше 0,05 - статистических значимых отличий в среднем чеке между группами нет.\n",
    "- Относительно средне различие среднего чека между сегментами - 25,9%. Есть влияние выбросов."
   ]
  },
  {
   "cell_type": "markdown",
   "id": "fa75a30b",
   "metadata": {},
   "source": [
    "### Статистическая значимость различий в среднем количестве заказов на посетителя между группами по «очищенным» данным"
   ]
  },
  {
   "cell_type": "markdown",
   "id": "d4a591e6",
   "metadata": {},
   "source": [
    "Очистим данные от аномалий, уберем пользователей, кто сделал более 4 заказов и сумма заказов не более 35 тыс."
   ]
  },
  {
   "cell_type": "code",
   "execution_count": 30,
   "id": "0d6b1b99",
   "metadata": {},
   "outputs": [
    {
     "name": "stdout",
     "output_type": "stream",
     "text": [
      "P-value: 0.01003\n",
      "Относительный прирост среднего очищенной группы B: 0.179\n",
      "Количество аномальных пользователей: 53\n"
     ]
    }
   ],
   "source": [
    "usersWithManyOrders = pd.concat(\n",
    "    [\n",
    "        ordersByUsersA[ordersByUsersA['orders'] > 2]['userId'],\n",
    "        ordersByUsersB[ordersByUsersB['orders'] > 2]['userId'],\n",
    "    ],\n",
    "    axis=0,\n",
    ")\n",
    "\n",
    "usersWithExpensiveOrders = orders[orders['revenue'] > 35000]['visitorId']\n",
    "abnormalUsers = (\n",
    "    pd.concat([usersWithManyOrders, usersWithExpensiveOrders], axis=0)\n",
    "    .drop_duplicates()\n",
    "    .sort_values()\n",
    ")\n",
    "sampleAFiltered = pd.concat(\n",
    "    [\n",
    "        ordersByUsersA[\n",
    "            np.logical_not(ordersByUsersA['userId'].isin(abnormalUsers))\n",
    "        ]['orders'],\n",
    "        pd.Series(\n",
    "            0,\n",
    "            index=np.arange(\n",
    "                data['visitorsPerDateA'].sum() - len(ordersByUsersA['orders'])\n",
    "            ),\n",
    "            name='orders',\n",
    "        ),\n",
    "    ],\n",
    "    axis=0,\n",
    ")\n",
    "\n",
    "sampleBFiltered = pd.concat(\n",
    "    [\n",
    "        ordersByUsersB[\n",
    "            np.logical_not(ordersByUsersB['userId'].isin(abnormalUsers))\n",
    "        ]['orders'],\n",
    "        pd.Series(\n",
    "            0,\n",
    "            index=np.arange(\n",
    "                data['visitorsPerDateB'].sum() - len(ordersByUsersB['orders'])\n",
    "            ),\n",
    "            name='orders',\n",
    "        ),\n",
    "    ],\n",
    "    axis=0,\n",
    ")\n",
    "\n",
    "print('P-value: {0:.5f}'.format(st.mannwhitneyu(sampleAFiltered, sampleBFiltered)[1]))\n",
    "print('Относительный прирост среднего очищенной группы B: {0:.3f}'.format(sampleBFiltered.mean()/sampleAFiltered.mean()-1))\n",
    "\n",
    "print('Количество аномальных пользователей:', abnormalUsers.shape[0]) "
   ]
  },
  {
   "cell_type": "markdown",
   "id": "8ad90ab9",
   "metadata": {},
   "source": [
    "**Промежуточный вывод:**\n",
    "- как и в сырых данных статистическая значимость достигнута.\n",
    "- группа В значительно лучше группы А."
   ]
  },
  {
   "cell_type": "markdown",
   "id": "1c8c3802",
   "metadata": {},
   "source": [
    "### Статистическая значимость различий в среднем чеке заказа между группами по «очищенным» данным"
   ]
  },
  {
   "cell_type": "code",
   "execution_count": 31,
   "id": "c0b3e483",
   "metadata": {
    "scrolled": true
   },
   "outputs": [
    {
     "name": "stdout",
     "output_type": "stream",
     "text": [
      "P-value: 0.885\n",
      "Относительный прирост среднего чека очищенной группы B: 0.022\n"
     ]
    }
   ],
   "source": [
    "print(\n",
    "    'P-value: {0:.3f}'.format(\n",
    "        st.mannwhitneyu(\n",
    "            orders[\n",
    "                np.logical_and(\n",
    "                    orders['group'] == 'A',\n",
    "                    np.logical_not(orders['visitorId'].isin(abnormalUsers)),\n",
    "                )\n",
    "            ]['revenue'],\n",
    "            orders[\n",
    "                np.logical_and(\n",
    "                    orders['group'] == 'B',\n",
    "                    np.logical_not(orders['visitorId'].isin(abnormalUsers)),\n",
    "                )\n",
    "            ]['revenue'],\n",
    "        )[1]\n",
    "    )\n",
    ")\n",
    "\n",
    "print(\n",
    "    \"Относительный прирост среднего чека очищенной группы B: {0:.3f}\".format(\n",
    "        orders[\n",
    "            np.logical_and(\n",
    "                orders['group'] == 'B',\n",
    "                np.logical_not(orders['visitorId'].isin(abnormalUsers)),\n",
    "            )\n",
    "        ]['revenue'].mean()\n",
    "        / orders[\n",
    "            np.logical_and(\n",
    "                orders['group'] == 'A',\n",
    "                np.logical_not(orders['visitorId'].isin(abnormalUsers)),\n",
    "            )\n",
    "        ]['revenue'].mean()\n",
    "        - 1\n",
    "    )\n",
    ")"
   ]
  },
  {
   "cell_type": "markdown",
   "id": "61fcdf3c",
   "metadata": {},
   "source": [
    "**Промежуточный вывод:**\n",
    "- p-value увеличился, но разница между сегментами стала совсем мала - 3,4%\n",
    "- нет статистически значимого различия по среднему чеку между группами ни по «сырым», ни по данным после фильтрации аномалий."
   ]
  },
  {
   "cell_type": "markdown",
   "id": "62b2ffe4",
   "metadata": {},
   "source": [
    "### Выводы"
   ]
  },
  {
   "cell_type": "markdown",
   "id": "4c0c3da9",
   "metadata": {},
   "source": [
    "- По методам ICE и RICE попадают одни и те же гипотезы: 1, 3, 7, 8, 9.\n",
    "- Гипотезу 9 стоит доработать, не определено ожидаемое изменение.\n",
    "- Есть статистически значимое различие по среднему количеству заказов на посетителя как по сырым данным, так и после фильтрации аномалий.\n",
    "- И по сырым  и по очищенным данным нет статистически значимого различия по среднему чеку между группами.\n",
    "- В целом результат теста успешен, т.к. увеличение количества заказов на посетителя увеличивает выручку компании."
   ]
  }
 ],
 "metadata": {
  "ExecuteTimeLog": [
   {
    "duration": 3886,
    "start_time": "2023-02-13T19:22:49.089Z"
   },
   {
    "duration": 296,
    "start_time": "2023-02-13T19:22:52.977Z"
   },
   {
    "duration": 22,
    "start_time": "2023-02-13T19:22:53.275Z"
   },
   {
    "duration": 23,
    "start_time": "2023-02-13T19:22:53.299Z"
   },
   {
    "duration": 15,
    "start_time": "2023-02-13T19:22:53.324Z"
   },
   {
    "duration": 81,
    "start_time": "2023-02-13T19:22:53.340Z"
   },
   {
    "duration": 36,
    "start_time": "2023-02-13T19:22:53.423Z"
   },
   {
    "duration": 17,
    "start_time": "2023-02-13T19:22:53.464Z"
   },
   {
    "duration": 16,
    "start_time": "2023-02-13T19:22:53.483Z"
   },
   {
    "duration": 4,
    "start_time": "2023-02-13T19:22:53.501Z"
   },
   {
    "duration": 8,
    "start_time": "2023-02-13T19:22:53.506Z"
   },
   {
    "duration": 5,
    "start_time": "2023-02-13T19:22:53.516Z"
   },
   {
    "duration": 39,
    "start_time": "2023-02-13T19:22:53.522Z"
   },
   {
    "duration": 11,
    "start_time": "2023-02-13T19:22:53.566Z"
   },
   {
    "duration": 27,
    "start_time": "2023-02-13T19:22:53.578Z"
   },
   {
    "duration": 273,
    "start_time": "2023-02-13T19:22:53.607Z"
   },
   {
    "duration": 230,
    "start_time": "2023-02-13T19:22:53.882Z"
   },
   {
    "duration": 291,
    "start_time": "2023-02-13T19:22:54.114Z"
   },
   {
    "duration": 329,
    "start_time": "2023-02-13T19:22:54.406Z"
   },
   {
    "duration": 223,
    "start_time": "2023-02-13T19:22:54.737Z"
   },
   {
    "duration": 307,
    "start_time": "2023-02-13T19:22:54.962Z"
   },
   {
    "duration": 183,
    "start_time": "2023-02-13T19:22:55.271Z"
   },
   {
    "duration": 12,
    "start_time": "2023-02-13T19:22:55.459Z"
   },
   {
    "duration": 194,
    "start_time": "2023-02-13T19:22:55.473Z"
   },
   {
    "duration": 5,
    "start_time": "2023-02-13T19:22:55.670Z"
   },
   {
    "duration": 247,
    "start_time": "2023-02-13T19:22:55.677Z"
   },
   {
    "duration": 130,
    "start_time": "2023-02-13T19:22:55.925Z"
   },
   {
    "duration": 17,
    "start_time": "2023-02-13T19:22:56.058Z"
   },
   {
    "duration": 44,
    "start_time": "2023-02-13T19:22:56.077Z"
   },
   {
    "duration": 37,
    "start_time": "2023-02-13T19:22:56.123Z"
   },
   {
    "duration": 1326,
    "start_time": "2023-02-13T19:27:49.335Z"
   },
   {
    "duration": 125,
    "start_time": "2023-02-13T19:27:50.663Z"
   },
   {
    "duration": 11,
    "start_time": "2023-02-13T19:27:50.790Z"
   },
   {
    "duration": 10,
    "start_time": "2023-02-13T19:27:50.802Z"
   },
   {
    "duration": 18,
    "start_time": "2023-02-13T19:27:50.814Z"
   },
   {
    "duration": 22,
    "start_time": "2023-02-13T19:27:50.834Z"
   },
   {
    "duration": 38,
    "start_time": "2023-02-13T19:27:50.858Z"
   },
   {
    "duration": 15,
    "start_time": "2023-02-13T19:27:50.897Z"
   },
   {
    "duration": 21,
    "start_time": "2023-02-13T19:27:50.915Z"
   },
   {
    "duration": 18,
    "start_time": "2023-02-13T19:27:50.939Z"
   },
   {
    "duration": 32,
    "start_time": "2023-02-13T19:27:50.965Z"
   },
   {
    "duration": 9,
    "start_time": "2023-02-13T19:27:50.999Z"
   },
   {
    "duration": 24,
    "start_time": "2023-02-13T19:27:51.010Z"
   },
   {
    "duration": 24,
    "start_time": "2023-02-13T19:27:51.039Z"
   },
   {
    "duration": 28,
    "start_time": "2023-02-13T19:27:51.065Z"
   },
   {
    "duration": 304,
    "start_time": "2023-02-13T19:27:51.095Z"
   },
   {
    "duration": 335,
    "start_time": "2023-02-13T19:27:51.401Z"
   },
   {
    "duration": 362,
    "start_time": "2023-02-13T19:27:51.739Z"
   },
   {
    "duration": 292,
    "start_time": "2023-02-13T19:27:52.105Z"
   },
   {
    "duration": 250,
    "start_time": "2023-02-13T19:27:52.399Z"
   },
   {
    "duration": 335,
    "start_time": "2023-02-13T19:27:52.651Z"
   },
   {
    "duration": 153,
    "start_time": "2023-02-13T19:27:52.988Z"
   },
   {
    "duration": 9,
    "start_time": "2023-02-13T19:27:53.143Z"
   },
   {
    "duration": 216,
    "start_time": "2023-02-13T19:27:53.154Z"
   },
   {
    "duration": 6,
    "start_time": "2023-02-13T19:27:53.372Z"
   },
   {
    "duration": 256,
    "start_time": "2023-02-13T19:27:53.380Z"
   },
   {
    "duration": 142,
    "start_time": "2023-02-13T19:27:53.638Z"
   },
   {
    "duration": 13,
    "start_time": "2023-02-13T19:27:53.782Z"
   },
   {
    "duration": 72,
    "start_time": "2023-02-13T19:27:53.796Z"
   },
   {
    "duration": 15,
    "start_time": "2023-02-13T19:27:53.874Z"
   },
   {
    "duration": 1656,
    "start_time": "2023-02-13T19:41:40.266Z"
   },
   {
    "duration": 120,
    "start_time": "2023-02-13T19:41:41.925Z"
   },
   {
    "duration": 18,
    "start_time": "2023-02-13T19:41:42.047Z"
   },
   {
    "duration": 4,
    "start_time": "2023-02-13T19:41:42.067Z"
   },
   {
    "duration": 13,
    "start_time": "2023-02-13T19:41:42.074Z"
   },
   {
    "duration": 15,
    "start_time": "2023-02-13T19:41:42.089Z"
   },
   {
    "duration": 23,
    "start_time": "2023-02-13T19:41:42.106Z"
   },
   {
    "duration": 15,
    "start_time": "2023-02-13T19:41:42.150Z"
   },
   {
    "duration": 11,
    "start_time": "2023-02-13T19:41:42.166Z"
   },
   {
    "duration": 4,
    "start_time": "2023-02-13T19:41:42.178Z"
   },
   {
    "duration": 7,
    "start_time": "2023-02-13T19:41:42.184Z"
   },
   {
    "duration": 4,
    "start_time": "2023-02-13T19:41:42.192Z"
   },
   {
    "duration": 14,
    "start_time": "2023-02-13T19:41:42.197Z"
   },
   {
    "duration": 51,
    "start_time": "2023-02-13T19:41:42.213Z"
   },
   {
    "duration": 16,
    "start_time": "2023-02-13T19:41:42.266Z"
   },
   {
    "duration": 261,
    "start_time": "2023-02-13T19:41:42.284Z"
   },
   {
    "duration": 218,
    "start_time": "2023-02-13T19:41:42.546Z"
   },
   {
    "duration": 277,
    "start_time": "2023-02-13T19:41:42.766Z"
   },
   {
    "duration": 311,
    "start_time": "2023-02-13T19:41:43.045Z"
   },
   {
    "duration": 235,
    "start_time": "2023-02-13T19:41:43.365Z"
   },
   {
    "duration": 335,
    "start_time": "2023-02-13T19:41:43.602Z"
   },
   {
    "duration": 141,
    "start_time": "2023-02-13T19:41:43.939Z"
   },
   {
    "duration": 5,
    "start_time": "2023-02-13T19:41:44.081Z"
   },
   {
    "duration": 181,
    "start_time": "2023-02-13T19:41:44.088Z"
   },
   {
    "duration": 4,
    "start_time": "2023-02-13T19:41:44.271Z"
   },
   {
    "duration": 223,
    "start_time": "2023-02-13T19:41:44.277Z"
   },
   {
    "duration": 111,
    "start_time": "2023-02-13T19:41:44.502Z"
   },
   {
    "duration": 10,
    "start_time": "2023-02-13T19:41:44.614Z"
   },
   {
    "duration": 54,
    "start_time": "2023-02-13T19:41:44.625Z"
   },
   {
    "duration": 13,
    "start_time": "2023-02-13T19:41:44.681Z"
   },
   {
    "duration": 48,
    "start_time": "2023-02-13T20:19:37.265Z"
   },
   {
    "duration": 1404,
    "start_time": "2023-02-13T20:19:42.495Z"
   },
   {
    "duration": 274,
    "start_time": "2023-02-13T20:19:43.901Z"
   },
   {
    "duration": 16,
    "start_time": "2023-02-13T20:19:44.177Z"
   },
   {
    "duration": 7,
    "start_time": "2023-02-13T20:19:44.196Z"
   },
   {
    "duration": 16,
    "start_time": "2023-02-13T20:19:44.205Z"
   },
   {
    "duration": 19,
    "start_time": "2023-02-13T20:19:44.223Z"
   },
   {
    "duration": 42,
    "start_time": "2023-02-13T20:19:44.244Z"
   },
   {
    "duration": 12,
    "start_time": "2023-02-13T20:19:44.288Z"
   },
   {
    "duration": 12,
    "start_time": "2023-02-13T20:19:44.301Z"
   },
   {
    "duration": 5,
    "start_time": "2023-02-13T20:19:44.315Z"
   },
   {
    "duration": 12,
    "start_time": "2023-02-13T20:19:44.321Z"
   },
   {
    "duration": 4,
    "start_time": "2023-02-13T20:19:44.334Z"
   },
   {
    "duration": 32,
    "start_time": "2023-02-13T20:19:44.340Z"
   },
   {
    "duration": 14,
    "start_time": "2023-02-13T20:19:44.374Z"
   },
   {
    "duration": 18,
    "start_time": "2023-02-13T20:19:44.390Z"
   },
   {
    "duration": 273,
    "start_time": "2023-02-13T20:19:44.410Z"
   },
   {
    "duration": 295,
    "start_time": "2023-02-13T20:19:44.684Z"
   },
   {
    "duration": 226,
    "start_time": "2023-02-13T20:19:44.980Z"
   },
   {
    "duration": 389,
    "start_time": "2023-02-13T20:19:45.208Z"
   },
   {
    "duration": 253,
    "start_time": "2023-02-13T20:19:45.599Z"
   },
   {
    "duration": 322,
    "start_time": "2023-02-13T20:19:45.855Z"
   },
   {
    "duration": 151,
    "start_time": "2023-02-13T20:19:46.179Z"
   },
   {
    "duration": 4,
    "start_time": "2023-02-13T20:19:46.333Z"
   },
   {
    "duration": 152,
    "start_time": "2023-02-13T20:19:46.349Z"
   },
   {
    "duration": 4,
    "start_time": "2023-02-13T20:19:46.503Z"
   },
   {
    "duration": 220,
    "start_time": "2023-02-13T20:19:46.509Z"
   },
   {
    "duration": 160,
    "start_time": "2023-02-13T20:19:46.731Z"
   },
   {
    "duration": 9,
    "start_time": "2023-02-13T20:19:46.894Z"
   },
   {
    "duration": 50,
    "start_time": "2023-02-13T20:19:46.905Z"
   },
   {
    "duration": 18,
    "start_time": "2023-02-13T20:19:46.962Z"
   },
   {
    "duration": 9,
    "start_time": "2023-02-13T20:21:55.987Z"
   },
   {
    "duration": 9,
    "start_time": "2023-02-13T20:22:17.766Z"
   },
   {
    "duration": 9,
    "start_time": "2023-02-13T20:22:32.026Z"
   },
   {
    "duration": 11,
    "start_time": "2023-02-13T20:22:56.656Z"
   },
   {
    "duration": 16,
    "start_time": "2023-02-13T20:23:17.473Z"
   },
   {
    "duration": 90,
    "start_time": "2023-02-13T20:25:17.501Z"
   },
   {
    "duration": 153,
    "start_time": "2023-02-13T20:26:44.989Z"
   },
   {
    "duration": 305,
    "start_time": "2023-02-13T20:32:29.233Z"
   },
   {
    "duration": 153,
    "start_time": "2023-02-13T20:56:53.463Z"
   },
   {
    "duration": 12,
    "start_time": "2023-02-13T20:57:11.440Z"
   },
   {
    "duration": 32,
    "start_time": "2023-02-13T20:57:23.512Z"
   },
   {
    "duration": 20,
    "start_time": "2023-02-13T20:57:32.846Z"
   },
   {
    "duration": 14,
    "start_time": "2023-02-13T20:58:23.103Z"
   },
   {
    "duration": 37,
    "start_time": "2023-02-13T20:59:01.893Z"
   },
   {
    "duration": 30,
    "start_time": "2023-02-13T20:59:10.289Z"
   },
   {
    "duration": 19,
    "start_time": "2023-02-13T20:59:20.724Z"
   },
   {
    "duration": 12,
    "start_time": "2023-02-13T20:59:57.650Z"
   },
   {
    "duration": 158,
    "start_time": "2023-02-13T21:00:36.676Z"
   },
   {
    "duration": 36,
    "start_time": "2023-02-13T21:02:19.980Z"
   },
   {
    "duration": 31,
    "start_time": "2023-02-13T21:02:45.612Z"
   },
   {
    "duration": 52,
    "start_time": "2023-02-13T21:02:51.868Z"
   },
   {
    "duration": 3,
    "start_time": "2023-02-13T21:07:26.409Z"
   },
   {
    "duration": 112,
    "start_time": "2023-02-13T21:07:26.417Z"
   },
   {
    "duration": 10,
    "start_time": "2023-02-13T21:07:26.531Z"
   },
   {
    "duration": 5,
    "start_time": "2023-02-13T21:07:26.543Z"
   },
   {
    "duration": 31,
    "start_time": "2023-02-13T21:07:26.551Z"
   },
   {
    "duration": 18,
    "start_time": "2023-02-13T21:07:26.584Z"
   },
   {
    "duration": 13,
    "start_time": "2023-02-13T21:07:26.603Z"
   },
   {
    "duration": 49,
    "start_time": "2023-02-13T21:07:26.617Z"
   },
   {
    "duration": 15,
    "start_time": "2023-02-13T21:07:26.668Z"
   },
   {
    "duration": 11,
    "start_time": "2023-02-13T21:07:26.684Z"
   },
   {
    "duration": 5,
    "start_time": "2023-02-13T21:07:26.697Z"
   },
   {
    "duration": 9,
    "start_time": "2023-02-13T21:07:26.703Z"
   },
   {
    "duration": 3,
    "start_time": "2023-02-13T21:07:26.714Z"
   },
   {
    "duration": 15,
    "start_time": "2023-02-13T21:07:26.749Z"
   },
   {
    "duration": 16,
    "start_time": "2023-02-13T21:07:26.767Z"
   },
   {
    "duration": 19,
    "start_time": "2023-02-13T21:07:26.784Z"
   },
   {
    "duration": 282,
    "start_time": "2023-02-13T21:07:26.804Z"
   },
   {
    "duration": 293,
    "start_time": "2023-02-13T21:07:27.088Z"
   },
   {
    "duration": 220,
    "start_time": "2023-02-13T21:07:27.383Z"
   },
   {
    "duration": 299,
    "start_time": "2023-02-13T21:07:27.605Z"
   },
   {
    "duration": 214,
    "start_time": "2023-02-13T21:07:27.906Z"
   },
   {
    "duration": 343,
    "start_time": "2023-02-13T21:07:28.121Z"
   },
   {
    "duration": 142,
    "start_time": "2023-02-13T21:07:28.466Z"
   },
   {
    "duration": 4,
    "start_time": "2023-02-13T21:07:28.610Z"
   },
   {
    "duration": 154,
    "start_time": "2023-02-13T21:07:28.615Z"
   },
   {
    "duration": 5,
    "start_time": "2023-02-13T21:07:28.770Z"
   },
   {
    "duration": 225,
    "start_time": "2023-02-13T21:07:28.776Z"
   },
   {
    "duration": 182,
    "start_time": "2023-02-13T21:07:29.003Z"
   },
   {
    "duration": 10,
    "start_time": "2023-02-13T21:07:29.188Z"
   },
   {
    "duration": 33,
    "start_time": "2023-02-13T21:07:29.199Z"
   },
   {
    "duration": 25,
    "start_time": "2023-02-13T21:07:29.249Z"
   },
   {
    "duration": 74,
    "start_time": "2023-02-13T21:07:29.275Z"
   },
   {
    "duration": 1308,
    "start_time": "2023-02-14T15:51:23.138Z"
   },
   {
    "duration": 116,
    "start_time": "2023-02-14T15:51:24.449Z"
   },
   {
    "duration": 13,
    "start_time": "2023-02-14T15:51:24.567Z"
   },
   {
    "duration": 6,
    "start_time": "2023-02-14T15:51:24.583Z"
   },
   {
    "duration": 18,
    "start_time": "2023-02-14T15:51:24.591Z"
   },
   {
    "duration": 22,
    "start_time": "2023-02-14T15:51:24.611Z"
   },
   {
    "duration": 14,
    "start_time": "2023-02-14T15:51:24.635Z"
   },
   {
    "duration": 56,
    "start_time": "2023-02-14T15:51:24.651Z"
   },
   {
    "duration": 15,
    "start_time": "2023-02-14T15:51:24.709Z"
   },
   {
    "duration": 11,
    "start_time": "2023-02-14T15:51:24.726Z"
   },
   {
    "duration": 5,
    "start_time": "2023-02-14T15:51:24.738Z"
   },
   {
    "duration": 9,
    "start_time": "2023-02-14T15:51:24.744Z"
   },
   {
    "duration": 4,
    "start_time": "2023-02-14T15:51:24.754Z"
   },
   {
    "duration": 44,
    "start_time": "2023-02-14T15:51:24.759Z"
   },
   {
    "duration": 30,
    "start_time": "2023-02-14T15:51:24.804Z"
   },
   {
    "duration": 24,
    "start_time": "2023-02-14T15:51:24.835Z"
   },
   {
    "duration": 311,
    "start_time": "2023-02-14T15:51:24.861Z"
   },
   {
    "duration": 293,
    "start_time": "2023-02-14T15:51:25.174Z"
   },
   {
    "duration": 219,
    "start_time": "2023-02-14T15:51:25.469Z"
   },
   {
    "duration": 308,
    "start_time": "2023-02-14T15:51:25.693Z"
   },
   {
    "duration": 216,
    "start_time": "2023-02-14T15:51:26.002Z"
   },
   {
    "duration": 310,
    "start_time": "2023-02-14T15:51:26.220Z"
   },
   {
    "duration": 142,
    "start_time": "2023-02-14T15:51:26.532Z"
   },
   {
    "duration": 5,
    "start_time": "2023-02-14T15:51:26.676Z"
   },
   {
    "duration": 156,
    "start_time": "2023-02-14T15:51:26.694Z"
   },
   {
    "duration": 4,
    "start_time": "2023-02-14T15:51:26.852Z"
   },
   {
    "duration": 234,
    "start_time": "2023-02-14T15:51:26.857Z"
   },
   {
    "duration": 173,
    "start_time": "2023-02-14T15:51:27.096Z"
   },
   {
    "duration": 10,
    "start_time": "2023-02-14T15:51:27.270Z"
   },
   {
    "duration": 46,
    "start_time": "2023-02-14T15:51:27.282Z"
   },
   {
    "duration": 15,
    "start_time": "2023-02-14T15:51:27.330Z"
   },
   {
    "duration": 1100,
    "start_time": "2023-02-14T15:58:57.300Z"
   },
   {
    "duration": 110,
    "start_time": "2023-02-14T15:58:58.402Z"
   },
   {
    "duration": 12,
    "start_time": "2023-02-14T15:58:58.514Z"
   },
   {
    "duration": 3,
    "start_time": "2023-02-14T15:58:58.527Z"
   },
   {
    "duration": 12,
    "start_time": "2023-02-14T15:58:58.533Z"
   },
   {
    "duration": 21,
    "start_time": "2023-02-14T15:58:58.547Z"
   },
   {
    "duration": 14,
    "start_time": "2023-02-14T15:58:58.570Z"
   },
   {
    "duration": 23,
    "start_time": "2023-02-14T15:58:58.594Z"
   },
   {
    "duration": 20,
    "start_time": "2023-02-14T15:58:58.618Z"
   },
   {
    "duration": 25,
    "start_time": "2023-02-14T15:58:58.640Z"
   },
   {
    "duration": 5,
    "start_time": "2023-02-14T15:58:58.667Z"
   },
   {
    "duration": 19,
    "start_time": "2023-02-14T15:58:58.694Z"
   },
   {
    "duration": 5,
    "start_time": "2023-02-14T15:58:58.715Z"
   },
   {
    "duration": 17,
    "start_time": "2023-02-14T15:58:58.723Z"
   },
   {
    "duration": 11,
    "start_time": "2023-02-14T15:58:58.741Z"
   },
   {
    "duration": 20,
    "start_time": "2023-02-14T15:58:58.753Z"
   },
   {
    "duration": 300,
    "start_time": "2023-02-14T15:58:58.774Z"
   },
   {
    "duration": 295,
    "start_time": "2023-02-14T15:58:59.076Z"
   },
   {
    "duration": 249,
    "start_time": "2023-02-14T15:58:59.373Z"
   },
   {
    "duration": 299,
    "start_time": "2023-02-14T15:58:59.624Z"
   },
   {
    "duration": 210,
    "start_time": "2023-02-14T15:58:59.924Z"
   },
   {
    "duration": 276,
    "start_time": "2023-02-14T15:59:00.135Z"
   },
   {
    "duration": 129,
    "start_time": "2023-02-14T15:59:00.413Z"
   },
   {
    "duration": 4,
    "start_time": "2023-02-14T15:59:00.544Z"
   },
   {
    "duration": 172,
    "start_time": "2023-02-14T15:59:00.549Z"
   },
   {
    "duration": 4,
    "start_time": "2023-02-14T15:59:00.723Z"
   },
   {
    "duration": 239,
    "start_time": "2023-02-14T15:59:00.729Z"
   },
   {
    "duration": 178,
    "start_time": "2023-02-14T15:59:00.969Z"
   },
   {
    "duration": 11,
    "start_time": "2023-02-14T15:59:01.149Z"
   },
   {
    "duration": 56,
    "start_time": "2023-02-14T15:59:01.162Z"
   },
   {
    "duration": 39,
    "start_time": "2023-02-14T15:59:01.220Z"
   }
  ],
  "kernelspec": {
   "display_name": "Python 3 (ipykernel)",
   "language": "python",
   "name": "python3"
  },
  "language_info": {
   "codemirror_mode": {
    "name": "ipython",
    "version": 3
   },
   "file_extension": ".py",
   "mimetype": "text/x-python",
   "name": "python",
   "nbconvert_exporter": "python",
   "pygments_lexer": "ipython3",
   "version": "3.9.7"
  },
  "toc": {
   "base_numbering": 1,
   "nav_menu": {},
   "number_sections": true,
   "sideBar": true,
   "skip_h1_title": true,
   "title_cell": "Table of Contents",
   "title_sidebar": "Contents",
   "toc_cell": true,
   "toc_position": {
    "height": "calc(100% - 180px)",
    "left": "10px",
    "top": "150px",
    "width": "590.467px"
   },
   "toc_section_display": true,
   "toc_window_display": false
  }
 },
 "nbformat": 4,
 "nbformat_minor": 5
}
